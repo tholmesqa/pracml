{
 "cells": [
  {
   "cell_type": "markdown",
   "id": "c80c055e",
   "metadata": {},
   "source": [
    "## Carryout the same procedures as previously on a new data set\n",
    "- Drop entries with NaNs\n",
    "- Drop columns that would be no use in a model, such as 'id'\n",
    "- Drop all non numeric columns\n",
    "- Define Outliers as we did before using the IQR\n",
    "- Remove these outliers\n",
    "- Make sure to check at each step as you proceed to identify any errors you may have made\n",
    "- Visualising the data along the way helps with this\n",
    "- Retype code rather than copy and paste as it will help you get familiar with the syntax"
   ]
  },
  {
   "cell_type": "code",
   "execution_count": 1,
   "id": "b29c30e8",
   "metadata": {
    "scrolled": true
   },
   "outputs": [
    {
     "name": "stdout",
     "output_type": "stream",
     "text": [
      "<class 'pandas.core.frame.DataFrame'>\n",
      "RangeIndex: 48895 entries, 0 to 48894\n",
      "Data columns (total 16 columns):\n",
      " #   Column                          Non-Null Count  Dtype  \n",
      "---  ------                          --------------  -----  \n",
      " 0   id                              48895 non-null  int64  \n",
      " 1   name                            48879 non-null  object \n",
      " 2   host_id                         48895 non-null  int64  \n",
      " 3   host_name                       48874 non-null  object \n",
      " 4   neighbourhood_group             48895 non-null  object \n",
      " 5   neighbourhood                   48895 non-null  object \n",
      " 6   latitude                        48895 non-null  float64\n",
      " 7   longitude                       48895 non-null  float64\n",
      " 8   room_type                       48895 non-null  object \n",
      " 9   price                           48895 non-null  int64  \n",
      " 10  minimum_nights                  48895 non-null  int64  \n",
      " 11  number_of_reviews               48895 non-null  int64  \n",
      " 12  last_review                     38843 non-null  object \n",
      " 13  reviews_per_month               38843 non-null  float64\n",
      " 14  calculated_host_listings_count  48895 non-null  int64  \n",
      " 15  availability_365                48895 non-null  int64  \n",
      "dtypes: float64(3), int64(7), object(6)\n",
      "memory usage: 6.0+ MB\n"
     ]
    }
   ],
   "source": [
    "import pandas as pd\n",
    "\n",
    "# reading in data\n",
    "df= pd.read_csv('data/AB_NYC_2019.csv')\n",
    "\n",
    "# displaying info\n",
    "df.info()"
   ]
  },
  {
   "cell_type": "markdown",
   "id": "e3bf4cca",
   "metadata": {},
   "source": [
    "- Fir"
   ]
  },
  {
   "cell_type": "markdown",
   "id": "43e8ba5d",
   "metadata": {},
   "source": [
    "Context\n",
    "\n",
    "Since 2008, guests and hosts have used Airbnb to expand on traveling possibilities and present more unique, personalized way of experiencing the world. This dataset describes the listing activity and metrics in NYC, NY for 2019.\n",
    "\n",
    "\n",
    "Content\n",
    "\n",
    "This data file includes all needed information to find out more about hosts, geographical availability, necessary metrics to make predictions and draw conclusions.\n",
    "\n",
    "\n",
    "Acknowledgements\n",
    "\n",
    "This public dataset is part of Airbnb, and the original source can be found on this website.\n"
   ]
  },
  {
   "cell_type": "markdown",
   "id": "2dace36c",
   "metadata": {},
   "source": [
    "For the rest you are on our own, but the target info and distributions is displayed at the bottom of this notebook"
   ]
  },
  {
   "cell_type": "code",
   "execution_count": null,
   "id": "b42dfe37",
   "metadata": {},
   "outputs": [],
   "source": []
  },
  {
   "cell_type": "code",
   "execution_count": null,
   "id": "5c8515e8",
   "metadata": {},
   "outputs": [],
   "source": []
  },
  {
   "cell_type": "code",
   "execution_count": null,
   "id": "1647942f",
   "metadata": {},
   "outputs": [],
   "source": []
  },
  {
   "cell_type": "code",
   "execution_count": null,
   "id": "b6faa4b8",
   "metadata": {},
   "outputs": [],
   "source": []
  },
  {
   "cell_type": "code",
   "execution_count": null,
   "id": "adb51acd",
   "metadata": {},
   "outputs": [],
   "source": []
  },
  {
   "cell_type": "code",
   "execution_count": null,
   "id": "b4bb0352",
   "metadata": {},
   "outputs": [],
   "source": []
  },
  {
   "cell_type": "code",
   "execution_count": null,
   "id": "22d70eb9",
   "metadata": {},
   "outputs": [],
   "source": []
  },
  {
   "cell_type": "code",
   "execution_count": null,
   "id": "01b6117a",
   "metadata": {},
   "outputs": [],
   "source": []
  },
  {
   "cell_type": "code",
   "execution_count": null,
   "id": "e7a20aac",
   "metadata": {},
   "outputs": [],
   "source": []
  },
  {
   "cell_type": "code",
   "execution_count": null,
   "id": "b4db535a",
   "metadata": {},
   "outputs": [],
   "source": []
  },
  {
   "cell_type": "code",
   "execution_count": null,
   "id": "9337ecca",
   "metadata": {},
   "outputs": [],
   "source": []
  },
  {
   "cell_type": "code",
   "execution_count": null,
   "id": "60da7b26",
   "metadata": {},
   "outputs": [],
   "source": []
  },
  {
   "cell_type": "code",
   "execution_count": null,
   "id": "66810889",
   "metadata": {},
   "outputs": [],
   "source": []
  },
  {
   "cell_type": "code",
   "execution_count": null,
   "id": "5ad19ec1",
   "metadata": {},
   "outputs": [],
   "source": []
  },
  {
   "cell_type": "code",
   "execution_count": null,
   "id": "f4083fad",
   "metadata": {},
   "outputs": [],
   "source": []
  },
  {
   "cell_type": "code",
   "execution_count": null,
   "id": "9fa2d1d3",
   "metadata": {},
   "outputs": [],
   "source": []
  },
  {
   "cell_type": "code",
   "execution_count": null,
   "id": "0a5d7b23",
   "metadata": {},
   "outputs": [],
   "source": []
  },
  {
   "cell_type": "code",
   "execution_count": 27,
   "id": "3fdc051d",
   "metadata": {},
   "outputs": [
    {
     "name": "stdout",
     "output_type": "stream",
     "text": [
      "<class 'pandas.core.frame.DataFrame'>\n",
      "Int64Index: 20500 entries, 5 to 48852\n",
      "Data columns (total 8 columns):\n",
      " #   Column                          Non-Null Count  Dtype  \n",
      "---  ------                          --------------  -----  \n",
      " 0   latitude                        20500 non-null  float64\n",
      " 1   longitude                       20500 non-null  float64\n",
      " 2   price                           20500 non-null  int64  \n",
      " 3   minimum_nights                  20500 non-null  int64  \n",
      " 4   number_of_reviews               20500 non-null  int64  \n",
      " 5   reviews_per_month               20500 non-null  float64\n",
      " 6   calculated_host_listings_count  20500 non-null  int64  \n",
      " 7   availability_365                20500 non-null  int64  \n",
      "dtypes: float64(3), int64(5)\n",
      "memory usage: 1.4 MB\n"
     ]
    }
   ],
   "source": [
    "df.info()"
   ]
  },
  {
   "cell_type": "code",
   "execution_count": 26,
   "id": "2e80e3ba",
   "metadata": {
    "scrolled": true
   },
   "outputs": [
    {
     "data": {
      "image/png": "[encoded data removed]",
      "text/plain": [
       "<Figure size 1440x1440 with 9 Axes>"
      ]
     },
     "metadata": {
      "needs_background": "light"
     },
     "output_type": "display_data"
    }
   ],
   "source": [
    "df.hist(bins = 50, figsize = (20,20));"
   ]
  },
  {
   "cell_type": "markdown",
   "id": "da5b2def",
   "metadata": {},
   "source": [
    "<details>\n",
    "    <summary style=\"color:green;font-weight:bold\">Solution</summary>\n",
    "    \n",
    "    \n",
    "    ## drop colums we are not interestd in\n",
    "\n",
    "    # dropping id columns\n",
    "    df.drop(columns = ['id','host_id'], inplace=True)\n",
    "\n",
    "    # dropping all columns that are objects\n",
    "    for column in df.columns:\n",
    "        if df[column].dtype == 'object':\n",
    "            df.drop(columns = column, inplace=True)\n",
    "    \n",
    "    # Define our outlier function\n",
    "    def outliers(df, feature):\n",
    "        Q1= df[feature].quantile(0.25)\n",
    "        Q3 = df[feature].quantile(0.75)\n",
    "        IQR = Q3 - Q1\n",
    "        upper_limit = Q3 + 1.5 * IQR\n",
    "        lower_limit = Q1 - 1.5 * IQR\n",
    "        return upper_limit, lower_limit\n",
    "    \n",
    "    # apply to the columns\n",
    "    for column in df.columns:\n",
    "        upper, lower = outliers(df,column)\n",
    "        df = df[(df[column] > lower) & (df[column] < upper)]\n",
    "   \n",
    "    "
   ]
  }
 ],
 "metadata": {
  "kernelspec": {
   "display_name": "Python 3 (ipykernel)",
   "language": "python",
   "name": "python3"
  },
  "language_info": {
   "codemirror_mode": {
    "name": "ipython",
    "version": 3
   },
   "file_extension": ".py",
   "mimetype": "text/x-python",
   "name": "python",
   "nbconvert_exporter": "python",
   "pygments_lexer": "ipython3",
   "version": "3.9.12"
  }
 },
 "nbformat": 4,
 "nbformat_minor": 5
}
