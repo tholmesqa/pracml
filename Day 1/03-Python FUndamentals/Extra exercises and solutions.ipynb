{
 "cells": [
  {
   "cell_type": "markdown",
   "metadata": {
    "graffitiCellId": "id_6h8z85b",
    "slideshow": {
     "slide_type": "slide"
    }
   },
   "source": [
    "# Python Exercises\n",
    "\n",
    "If you are not familiar with some of the methods needed, Google how to perform them.\n",
    "\n",
    "It usually only takes a quick search to find a worked example that you can adopt to apply.\n",
    "\n",
    "This is key with progressing with programming"
   ]
  },
  {
   "cell_type": "markdown",
   "metadata": {
    "graffitiCellId": "id_ix5t7mi",
    "slideshow": {
     "slide_type": "slide"
    }
   },
   "source": [
    "## Exercise 1 (10 Minutes):\n",
    "* define variables of each type, string, int, float\n",
    "* they should describe you (name, age, location, etc.)\n",
    "* print these out\n",
    "* print all strings in upper case\n",
    "* print whether your age is over 18\n",
    "* print 10 dashes"
   ]
  },
  {
   "cell_type": "code",
   "execution_count": null,
   "metadata": {
    "collapsed": true,
    "jupyter": {
     "outputs_hidden": true
    }
   },
   "outputs": [],
   "source": [
    "# Enter solution here"
   ]
  },
  {
   "cell_type": "markdown",
   "metadata": {
    "graffitiCellId": "id_khzovon",
    "slideshow": {
     "slide_type": "slide"
    }
   },
   "source": [
    "### Exercise 2 (15 minutes):\n",
    "define a function called :\n",
    "\n",
    "* mean: which takes three parameters and returns their mean\n",
    "* cube: which cubes its first argument\n",
    "* is_adult: which says whether its first argument is more than 18 \n",
    "\n",
    "\n",
    "\n",
    "* define three variables:   \n",
    "* mean_ages: which is mean of 18,18,20 \n",
    "* two_later: which is 2 cubed\n",
    "* teen_is_adult: which is whether an age of 15 is adult\n",
    "\n",
    "\n",
    "* define function show() \n",
    "* which prints the three variables above "
   ]
  },
  {
   "cell_type": "code",
   "execution_count": null,
   "metadata": {
    "collapsed": true,
    "graffitiCellId": "id_v0pk59z",
    "jupyter": {
     "outputs_hidden": true
    },
    "slideshow": {
     "slide_type": "subslide"
    }
   },
   "outputs": [],
   "source": [
    "# Enter solution here"
   ]
  },
  {
   "cell_type": "markdown",
   "metadata": {
    "graffitiCellId": "id_9775rav",
    "slideshow": {
     "slide_type": "subslide"
    }
   },
   "source": [
    "## Exericse 3:  Lists (20 minutes)\n",
    "* define a list \"cart\" which is a shopping cart\n",
    "* add several items to it, but make it an even number of items\n",
    "* print out the first, last and middle two items\n",
    "\n",
    "* insert a new item at the start\n",
    "* print the whole list"
   ]
  },
  {
   "cell_type": "code",
   "execution_count": null,
   "metadata": {
    "collapsed": true,
    "jupyter": {
     "outputs_hidden": true
    }
   },
   "outputs": [],
   "source": [
    "# Enter solution here"
   ]
  },
  {
   "cell_type": "markdown",
   "metadata": {},
   "source": [
    "## Exercise 4: (20min)"
   ]
  },
  {
   "cell_type": "markdown",
   "metadata": {},
   "source": [
    "(review notes)\n",
    "\n",
    "\n",
    "Your goal in this exercise is to simualte tracking health data for a user, and provide them with a custom health warning message if there are any issues with their health data. \n",
    "\n",
    "#### Part 1\n",
    "Ask the user for a single HR and BP reading. \n",
    "\n",
    "Report a warning based on where *both* of these values fall. \n",
    "\n",
    "* bad signs\n",
    "    * HR > 200 \n",
    "    * BP > 200 \n",
    "    * HR > 150, BP > 170 \n",
    "    * come up with your own conditions for the low warnings range\n",
    "\n",
    "\n",
    "#### Part 2\n",
    "Ask the user how they are feeling. Offer the user some advice on their mental health. \n",
    "\n",
    "* bad signs\n",
    "    * does the response contain \"sad\"\n",
    "    * does it end with \"!?\"\n",
    "* good signs\n",
    "    * does it contain \"happy\"\n",
    "    * does it end with \"!\"\n",
    "    \n",
    "Research: https://www.w3schools.com/python/ref_func_input.asp"
   ]
  },
  {
   "cell_type": "markdown",
   "metadata": {},
   "source": [
    "#### Solutions"
   ]
  },
  {
   "cell_type": "markdown",
   "metadata": {},
   "source": [
    "<details>\n",
    "    <summary style=\"color:green;font-weight:bold\">Click here for the answer to Exercise 1</summary>\n",
    "\n",
    "    my_name = 'name'\n",
    "\n",
    "    my_age = 40\n",
    "\n",
    "    my_weight = 67.5\n",
    "\n",
    "    my_location = 'At my desk'\n",
    "\n",
    "    print(my_age, my_name, my_weight, my_location)\n",
    "\n",
    "    print(my_name.upper(), my_location.upper())\n",
    "\n",
    "    if my_age >= 18:\n",
    "        print('I am over 18')\n",
    "\n",
    "\n",
    "    print('----------')\n",
    "\n",
    "\n",
    "</details>"
   ]
  },
  {
   "cell_type": "markdown",
   "metadata": {},
   "source": [
    "<details>\n",
    "    <summary style=\"color:green;font-weight:bold\">Click here for the answer to Exercise 2</summary>\n",
    "\n",
    " Example answer\n",
    "\n",
    "    def mean(a,b,c):\n",
    "\n",
    "        return (a+b+c)/3\n",
    "\n",
    "    def cube(a):\n",
    "\n",
    "        return a**3\n",
    "\n",
    "    def is_adult(age, name):\n",
    "\n",
    "        if age >= 18:\n",
    "\n",
    "            return f'{name}, is an adult'\n",
    "\n",
    "     else:\n",
    "\n",
    "         return f'{name}, is not an adult'\n",
    "    \n",
    "    \n",
    "\n",
    "\n",
    "    mean = mean(18,18,20)\n",
    "\n",
    "    cube = cube(2)\n",
    "\n",
    "    is_adult = is_adult(15,'Tony')\n",
    "    \n",
    "    \n",
    "    \n",
    "\n",
    "    def function_show():\n",
    "\n",
    "        print('mean = ',mean, '\\n'\n",
    "\n",
    "            'cube = ',cube,  '\\n'\n",
    "\n",
    "            'is_adult = ',is_adult)\n",
    "</details>"
   ]
  },
  {
   "cell_type": "markdown",
   "metadata": {},
   "source": [
    "<details>\n",
    "    <summary style=\"color:green;font-weight:bold\">Click here for the answer to Exercise 3</summary>\n",
    "\n",
    " Example answer\n",
    "\n",
    "    cart = ['cat', 'dog', 'bat', 'bear']\n",
    "\n",
    "    lower_middle = int(len(cart)/2)-1\n",
    "\n",
    "    upper_middle = int((len(cart)/2)+1)\n",
    "\n",
    "    print(cart[0], cart[-1] , cart[lower_middle:upper_middle])\n",
    "\n",
    "    cart.insert(0,'spam')\n",
    "    \n",
    "    cart\n",
    "    \n",
    "\n",
    "</details>"
   ]
  },
  {
   "cell_type": "markdown",
   "metadata": {},
   "source": [
    "<details>\n",
    "    <summary style=\"color:green;font-weight:bold\">Click here for the answer to Exercise 4</summary>\n",
    "\n",
    " Example answer\n",
    "\n",
    "def warning(BP, HR):\n",
    "    \n",
    "    if (BP > 170 and HR >150):\n",
    "    \n",
    "        print('Be careful')\n",
    "       \n",
    "    elif (BP > 200 or HR >200):\n",
    "    \n",
    "        print('Be careful')\n",
    "        \n",
    "    else:\n",
    "        print('All good')\n",
    "        \n",
    "\n",
    "def response():\n",
    "    \n",
    "    statement = input('How are you feeling?')\n",
    "    \n",
    "    if ('sad' in statement or statement.endswith('?')):\n",
    "        \n",
    "        return print('Maybe you should take a break')\n",
    "    \n",
    "    if ('happy' in statement or statement.endswith('!')):\n",
    "        \n",
    "        return print('Glad everything is gong well!')\n",
    "    \n",
    "    \n",
    "\n",
    "</details>"
   ]
  }
 ],
 "metadata": {
  "graffiti": {
   "firstAuthorId": "dev",
   "id": "id_o268vaa",
   "language": "EN"
  },
  "kernelspec": {
   "display_name": "Python 3 (ipykernel)",
   "language": "python",
   "name": "python3"
  },
  "language_info": {
   "codemirror_mode": {
    "name": "ipython",
    "version": 3
   },
   "file_extension": ".py",
   "mimetype": "text/x-python",
   "name": "python",
   "nbconvert_exporter": "python",
   "pygments_lexer": "ipython3",
   "version": "3.9.7"
  }
 },
 "nbformat": 4,
 "nbformat_minor": 4
}
