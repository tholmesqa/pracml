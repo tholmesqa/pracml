{
 "cells": [
  {
   "cell_type": "markdown",
   "metadata": {},
   "source": [
    "# Learning Python Basics\n",
    "\n",
    "#### Welcome to the fyoure refresher on python\n",
    "\n"
   ]
  },
  {
   "cell_type": "markdown",
   "metadata": {},
   "source": [
    "## Contents\n",
    "<a id='Contents'></a>\n",
    "\n",
    "- [1. Jupyter Notebook](#Jupyter)\n",
    "- [2. Data Types](#Data-Types)\n",
    "- [3. Comparisons, Logical Operators and Booleans](#Comparisons)\n",
    "- [4. Containers](#Containers)\n",
    "- [5. Conditional statements](#If)\n",
    "- [6. Iterating - For Loops](#Iterating)\n",
    "- [7. Iterating - While Loops](#While)\n",
    "- [8. Functions](#Functions)  \n",
    "- [9. Extension Exercises](#Extension)  \n",
    "- [10. Solutions](#Solutions)  \n",
    "\n",
    "<hr>"
   ]
  },
  {
   "cell_type": "markdown",
   "metadata": {},
   "source": [
    "<a id='Jupyter'></a>\n",
    "\n",
    "## 1. Jupyter Notebook\n",
    "[Back to Contents](#Contents)\n",
    "\n",
    "###  What is a Jupyter notebook\n",
    "\n",
    "Interactive way to write, share and display code\n",
    "\n",
    "- Live code\n",
    "- Narrative text\n",
    "- Plots\n",
    "- Images\n",
    "- Video\n",
    "- Widgets\n",
    "\n",
    "Great for self contained proof of concepts with lots of options for intractive coding and displays It can easily be converted to different formats for publication, e.g PDF, HTML\n",
    "\n",
    "Jupyter notebooks are broken up into a series of `cells` that can be either `Code` or `Markdown`, markdown being text.\n",
    "(https://nbviewer.jupyter.org/github/jupyter/notebook/blob/master/docs/source/examples/Notebook/Working%20With%20Markdown%20Cells.ipynb). Code cells have a sperate input and output, whereas Markdown cells can be edited and then rendered.\n",
    "\n",
    "### Jupyter Editing Modes\n",
    "Jupyter Notebook has a modal user interface. This means that the keyboard does different things depending on which mode the Notebook is in. There are two modes: Edit mode and Command mode.\n",
    "\n",
    "Edit mode allows you to type into the cells like a normal text editor. Command mode allows you to edit the notebook as a whole, but not type into individual cells.\n",
    "\n",
    "\n",
    "### Editing Jupyter cells\n",
    "\n",
    "When you are editing a cell in Jupyter notebook, you need to re-run the cell by pressing **`<Ctrl> + <Enter>`**. This will allow changes you made to be available to other cells.\n",
    "\n",
    "Use **`<Enter>`** to make new lines inside a cell you are editing.\n",
    "\n",
    "A selected cell will have a green highlight when in editing mode and a blue highlight when just selected. \n",
    "\n",
    "#### Code cells\n",
    "\n",
    "Re-running will execute any code. To edit an existing code cell, click on it.\n",
    "\n",
    "#### Markdown cells\n",
    "\n",
    "Re-running will render the _markdown_ text. To edit double-click on it."
   ]
  },
  {
   "cell_type": "markdown",
   "metadata": {},
   "source": [
    "### Common Jupyter operations\n",
    "\n",
    "Near the top of the page, Jupyter provides a row of menu options (`File`, `Edit`, `View`, `Insert`, ...) and a row of tool bar icons (disk, plus sign, scissors, 2 files, clipboard and file, up arrow, ...).\n",
    "\n",
    "#### Inserting and removing cells\n",
    "\n",
    "- The easiest way is to use A for above and B for below when in command mode\n",
    "- You can also use the tool bar, + for below and insert from the menu bar\n",
    "\n",
    "#### Clear the output of all cells\n",
    "\n",
    "- Use `Kernel` -> `Restart` from the menu to restart the kernel\n",
    "    - click on \"clear all outputs & restart\" to have all the output cleared\n",
    "\n",
    "#### Save your notebook file locally\n",
    "-  Will automatically save a certain points, last checkpooint deisplayed beside file name at the top\n",
    "- Use the Save button on the far left to save with the same name\n",
    "- Alternatively use `File` -> `Save As` if you want to save as a new file \n",
    "- Or create a copy, it will automatically append a suffix, or you can change the filme aswell\n",
    "\n",
    "### 1 Further reading on notebooks\n",
    "\n",
    "[The official introduction to Jupyter notebook interaction](https://nbviewer.jupyter.org/github/jupyter/notebook/blob/master/docs/source/examples/Notebook/Notebook%20Basics.ipynb)\n",
    "\n",
    "[A more detailed description of what is a Jupyter notebook](https://nbviewer.jupyter.org/github/jupyter/notebook/blob/master/docs/source/examples/Notebook/What%20is%20the%20Jupyter%20Notebook.ipynb)\n",
    "\n",
    "<hr>"
   ]
  },
  {
   "cell_type": "markdown",
   "metadata": {},
   "source": [
    "### First Python code cell"
   ]
  },
  {
   "cell_type": "code",
   "execution_count": 17,
   "metadata": {},
   "outputs": [
    {
     "name": "stdout",
     "output_type": "stream",
     "text": [
      "Hello world\n"
     ]
    }
   ],
   "source": [
    "print('Hello world')   "
   ]
  },
  {
   "cell_type": "code",
   "execution_count": 18,
   "metadata": {},
   "outputs": [
    {
     "data": {
      "text/plain": [
       "'Hello world'"
      ]
     },
     "execution_count": 18,
     "metadata": {},
     "output_type": "execute_result"
    }
   ],
   "source": [
    "'Hello world'"
   ]
  },
  {
   "cell_type": "code",
   "execution_count": 19,
   "metadata": {},
   "outputs": [
    {
     "data": {
      "text/plain": [
       "'Hello world'"
      ]
     },
     "execution_count": 19,
     "metadata": {},
     "output_type": "execute_result"
    }
   ],
   "source": [
    "greeting = 'Hello world'\n",
    "greeting"
   ]
  },
  {
   "cell_type": "markdown",
   "metadata": {},
   "source": [
    "<a id='Data-Types'></a>\n",
    "## 2. Basic data types\n",
    "[Back to Contents](#Contents)\n",
    "\n",
    "Everything in Python is an **object** and every object in Python has a **type**. Computer programs typcally keep track of a range of data types. For example, `1.5` is a floating point number, while `1` is an integer. Programs need to distinguish between these two types for various reasons:\n",
    "\n",
    "- They are stored in memory differently.\n",
    "- Their arithmetic operations are different\n",
    "\n",
    "\n",
    "Some of the basic types in Python include:\n",
    "\n",
    "- **`int`** (integer; a whole number with no decimal place)\n",
    "  - `101`\n",
    "  - `-27`\n",
    "  \n",
    "- **`float`** (float; a number that has a decimal place)\n",
    "  - `3.14`\n",
    "  - `-0.0217`\n",
    "  \n",
    "- **`str`** (string; a sequence of characters enclosed in single quotes, double quotes, or triple quotes)\n",
    "  - `'this is a string using single quotes'`\n",
    "  - `\"this is a string using double quotes\"`\n",
    "  - `'''this is a triple quoted string using single quotes'''`\n",
    "  - `\"\"\"this is a triple quoted string using double quotes\"\"\"`\n",
    "\n",
    "In Python, a **variable** is a name you specify in your code that maps to a particular **object**, object **instance**, or value.\n",
    "\n",
    "By defining variables, we can refer to things by names that make sense to us. Names for variables can only contain letters, underscores (`_`), or numbers (no spaces, dashes, or other characters). **Variable names must start with a letter or underscore - good practice is to start with a letter**\n",
    "\n",
    "It is also important to avoid using keywords, for example \"list\" if I name an object 'list; it will overwrite Pythons inbuilt function list().  Keywarods will be highlighted for you and you will become more familiar with them\n",
    "\n",
    "For more information, have a look at [W3Schools Python datatypes](https://www.w3schools.com/python/python_datatypes.asp) or [the official Python documentation for standard data types](https://docs.python.org/3/library/stdtypes.html#)"
   ]
  },
  {
   "cell_type": "markdown",
   "metadata": {},
   "source": [
    "##### Consequences of using keywords"
   ]
  },
  {
   "cell_type": "code",
   "execution_count": 20,
   "metadata": {},
   "outputs": [
    {
     "data": {
      "text/plain": [
       "['k', 'e', 'y', 'w', 'o', 'r', 'd']"
      ]
     },
     "execution_count": 20,
     "metadata": {},
     "output_type": "execute_result"
    }
   ],
   "source": [
    "# here we see the inbuilt funtion 'list'\n",
    "# In this case it converts a string to a list with each charachter and element in the list\n",
    "\n",
    "list('keyword')"
   ]
  },
  {
   "cell_type": "code",
   "execution_count": 21,
   "metadata": {},
   "outputs": [],
   "source": [
    "# if I use this keyword to defince an object, no matter what it is\n",
    "# Python will now refer to this as an object and not a built in function, we have invaded its namespace\n",
    "# You can cahnge the object to whatever you like, string, float etc\n",
    "\n",
    "list = ['the keyword','was', 'highlighted','green']"
   ]
  },
  {
   "cell_type": "code",
   "execution_count": 23,
   "metadata": {},
   "outputs": [
    {
     "data": {
      "text/plain": [
       "['the keyword', 'was', 'highlighted', 'green']"
      ]
     },
     "execution_count": 23,
     "metadata": {},
     "output_type": "execute_result"
    }
   ],
   "source": [
    "# call the object\n",
    "list"
   ]
  },
  {
   "cell_type": "code",
   "execution_count": 24,
   "metadata": {},
   "outputs": [
    {
     "ename": "TypeError",
     "evalue": "'list' object is not callable",
     "output_type": "error",
     "traceback": [
      "\u001b[1;31m---------------------------------------------------------------------------\u001b[0m",
      "\u001b[1;31mTypeError\u001b[0m                                 Traceback (most recent call last)",
      "Input \u001b[1;32mIn [24]\u001b[0m, in \u001b[0;36m<cell line: 2>\u001b[1;34m()\u001b[0m\n\u001b[0;32m      1\u001b[0m \u001b[38;5;66;03m# Now if we try and apply the 'list' function, we have an error\u001b[39;00m\n\u001b[1;32m----> 2\u001b[0m \u001b[38;5;28;43mlist\u001b[39;49m\u001b[43m(\u001b[49m\u001b[38;5;124;43m'\u001b[39;49m\u001b[38;5;124;43mkeyword\u001b[39;49m\u001b[38;5;124;43m'\u001b[39;49m\u001b[43m)\u001b[49m\n",
      "\u001b[1;31mTypeError\u001b[0m: 'list' object is not callable"
     ]
    }
   ],
   "source": [
    "# Now if we try and apply the 'list' function, we have an error\n",
    "list('keyword')"
   ]
  },
  {
   "cell_type": "code",
   "execution_count": 25,
   "metadata": {},
   "outputs": [],
   "source": [
    "# del will delete an object from memory, in this case deleting 'list' and allowing us to \n",
    "# use the inbuilt fincion again\n",
    "del list"
   ]
  },
  {
   "cell_type": "code",
   "execution_count": 26,
   "metadata": {},
   "outputs": [
    {
     "data": {
      "text/plain": [
       "['k', 'e', 'y', 'w', 'o', 'r', 'd']"
      ]
     },
     "execution_count": 26,
     "metadata": {},
     "output_type": "execute_result"
    }
   ],
   "source": [
    "list('keyword')"
   ]
  },
  {
   "cell_type": "markdown",
   "metadata": {},
   "source": [
    "##### Assignments"
   ]
  },
  {
   "cell_type": "code",
   "execution_count": 27,
   "metadata": {},
   "outputs": [
    {
     "data": {
      "text/plain": [
       "2"
      ]
     },
     "execution_count": 27,
     "metadata": {},
     "output_type": "execute_result"
    }
   ],
   "source": [
    "first_number = 2\n",
    "first_number"
   ]
  },
  {
   "cell_type": "markdown",
   "metadata": {},
   "source": [
    "We can check the type of any object in memory using the `type()` function."
   ]
  },
  {
   "cell_type": "code",
   "execution_count": 28,
   "metadata": {},
   "outputs": [
    {
     "data": {
      "text/plain": [
       "int"
      ]
     },
     "execution_count": 28,
     "metadata": {},
     "output_type": "execute_result"
    }
   ],
   "source": [
    "type(first_number)"
   ]
  },
  {
   "cell_type": "markdown",
   "metadata": {},
   "source": [
    "#### Mathematical operators: `+`, `-`, `*`, `/`, `//`, `%`, `**`\n",
    "See also [Python's description of numerical operators](https://docs.python.org/3/library/stdtypes.html?highlight=numerical%20operators#numeric-types-int-float-complex) "
   ]
  },
  {
   "cell_type": "code",
   "execution_count": 29,
   "metadata": {
    "hide-output": false
   },
   "outputs": [
    {
     "name": "stdout",
     "output_type": "stream",
     "text": [
      "The first result is that of the addition:\n",
      "14\n",
      "subtracted = 4\n",
      "multiplied = 21\n",
      "divided = 7.0\n",
      "divisor = 7\n",
      "modulus = 1\n"
     ]
    }
   ],
   "source": [
    "added = 6 + 8 # addition\n",
    "subtracted = 7 - 3 # subtraction\n",
    "multiplied = 7 * 3 # multiplication\n",
    "divided = 14 / 2   # division\n",
    "\n",
    "# 29 divided by 4 is 7 remainder 1\n",
    "divisor = 29 // 4  # floor division [the integer]\n",
    "modulus = 29 % 4   # modulo [the remainder from floor division]\n",
    "\n",
    "print(\"The first result is that of the addition:\")\n",
    "print(added)\n",
    "print(\"subtracted =\", subtracted)\n",
    "print(\"multiplied =\", multiplied)\n",
    "print(\"divided =\", divided)\n",
    "print(f\"divisor = {divisor}\")\n",
    "print(f\"modulus = {modulus}\")"
   ]
  },
  {
   "cell_type": "code",
   "execution_count": 30,
   "metadata": {
    "hide-output": false
   },
   "outputs": [
    {
     "name": "stdout",
     "output_type": "stream",
     "text": [
      "a_squared = 16\n",
      "a_minus_a_times_b = -4\n"
     ]
    }
   ],
   "source": [
    "a = 4\n",
    "b = 2\n",
    "a_squared = a ** 2 \n",
    "a_minus_a_times_b = a - a * b\n",
    "\n",
    "print(f\"{a_squared = }\")\n",
    "print(f\"{a_minus_a_times_b = }\")"
   ]
  },
  {
   "cell_type": "code",
   "execution_count": 31,
   "metadata": {},
   "outputs": [
    {
     "name": "stdout",
     "output_type": "stream",
     "text": [
      "a_minus_a__times_b = 0\n",
      "a_minus__a_times_b = -4\n"
     ]
    }
   ],
   "source": [
    "a_minus_a__times_b = (a - a) * b\n",
    "a_minus__a_times_b = a - (a * b)\n",
    "\n",
    "print(f\"{a_minus_a__times_b = }\")\n",
    "print(f\"{a_minus__a_times_b = }\")"
   ]
  },
  {
   "cell_type": "markdown",
   "metadata": {},
   "source": [
    "#### String operators: `+`, `*`"
   ]
  },
  {
   "cell_type": "code",
   "execution_count": 32,
   "metadata": {
    "hide-output": false
   },
   "outputs": [],
   "source": [
    "e = 'Earth'\n",
    "f = 'Fire'\n",
    "g = 'E' + 'F'\n",
    "h = 'F' * 3\n",
    "i = f * a"
   ]
  },
  {
   "cell_type": "markdown",
   "metadata": {},
   "source": [
    "#### Can you guess what each one of these will print?"
   ]
  },
  {
   "cell_type": "code",
   "execution_count": 33,
   "metadata": {
    "hide-output": false
   },
   "outputs": [
    {
     "name": "stdout",
     "output_type": "stream",
     "text": [
      "Earth\n",
      "Fire\n",
      "EF\n",
      "FFF\n",
      "FireFireFireFire\n"
     ]
    }
   ],
   "source": [
    "print(e)\n",
    "print(f)\n",
    "print(g)\n",
    "print(h)\n",
    "print(i)"
   ]
  },
  {
   "cell_type": "markdown",
   "metadata": {},
   "source": [
    "<div class=\"alert alert-block alert-info\">\n",
    "    <h3>Independent Tasks</h3>\n",
    "\n",
    "Have a go at the tasks below. Once these are complete, you have two options:\n",
    "\n",
    "1. Redo the above questions, varying the output and trying something new - \"probably worth a google\"\n",
    "2. Begin looking at the extension questions [Extension Exercises](#Extension)\n",
    "    \n",
    "</div>"
   ]
  },
  {
   "cell_type": "code",
   "execution_count": 34,
   "metadata": {},
   "outputs": [],
   "source": [
    "# Task 1\n",
    "# In the space provided create:\n",
    "#  - a variable called 't2_int' containing an integer\n",
    "#  - a variable called 't2_float' containing a non-integer numeric value\n",
    "#  - a variable called 't2_string' containing a string of at least 20 characters\n",
    "# --------------------------------------------------- #\n",
    "\n",
    "\n",
    "\n",
    "\n",
    "# --------------------------------------------------- #"
   ]
  },
  {
   "cell_type": "code",
   "execution_count": 35,
   "metadata": {},
   "outputs": [],
   "source": [
    "# Task 2\n",
    "# Give t2_float a new value so that it has the string data type\n",
    "# --------------------------------------------------- #\n",
    "\n",
    "\n",
    "\n",
    "\n",
    "# --------------------------------------------------- #"
   ]
  },
  {
   "cell_type": "markdown",
   "metadata": {},
   "source": [
    "<a id='Comparisons'></a>\n",
    "## 3. Comparisons, Logical Operators and Booleans\n",
    "[Back to Contents](#Contents)\n",
    "\n",
    "- [Python Truth testing](https://docs.python.org/3/library/stdtypes.html#truth-value-testing)\n",
    "- [W3Schools Python booleans](https://www.w3schools.com/python/python_booleans.asp)\n",
    "\n",
    "Another simple data type is **Boolean values**, which can be either `True` or `False`. This is case sensitive. `1` and `0` can also be used in the place of `True` and `False` respectively. "
   ]
  },
  {
   "cell_type": "code",
   "execution_count": 36,
   "metadata": {
    "hide-output": false
   },
   "outputs": [
    {
     "data": {
      "text/plain": [
       "True"
      ]
     },
     "execution_count": 36,
     "metadata": {},
     "output_type": "execute_result"
    }
   ],
   "source": [
    "x = True\n",
    "x"
   ]
  },
  {
   "cell_type": "code",
   "execution_count": 37,
   "metadata": {
    "hide-output": false
   },
   "outputs": [
    {
     "data": {
      "text/plain": [
       "bool"
      ]
     },
     "execution_count": 37,
     "metadata": {},
     "output_type": "execute_result"
    }
   ],
   "source": [
    "type(x)"
   ]
  },
  {
   "cell_type": "markdown",
   "metadata": {},
   "source": [
    "In the next line of code, the interpreter evaluates the expression on the right of = and binds y to this value"
   ]
  },
  {
   "cell_type": "code",
   "execution_count": 38,
   "metadata": {
    "hide-output": false
   },
   "outputs": [
    {
     "data": {
      "text/plain": [
       "False"
      ]
     },
     "execution_count": 38,
     "metadata": {},
     "output_type": "execute_result"
    }
   ],
   "source": [
    "a = 100\n",
    "b = 10\n",
    "y = a < b\n",
    "y"
   ]
  },
  {
   "cell_type": "code",
   "execution_count": 39,
   "metadata": {
    "hide-output": false
   },
   "outputs": [
    {
     "data": {
      "text/plain": [
       "bool"
      ]
     },
     "execution_count": 39,
     "metadata": {},
     "output_type": "execute_result"
    }
   ],
   "source": [
    "type(y)"
   ]
  },
  {
   "cell_type": "markdown",
   "metadata": {},
   "source": [
    "When testing for equality we use `==`"
   ]
  },
  {
   "cell_type": "code",
   "execution_count": 40,
   "metadata": {
    "hide-output": false
   },
   "outputs": [
    {
     "data": {
      "text/plain": [
       "False"
      ]
     },
     "execution_count": 40,
     "metadata": {},
     "output_type": "execute_result"
    }
   ],
   "source": [
    "x = 1    # Assignment\n",
    "x == 2   # Comparison"
   ]
  },
  {
   "cell_type": "code",
   "execution_count": 41,
   "metadata": {},
   "outputs": [],
   "source": [
    "a = 6 + 8\n",
    "b = 14 / 2"
   ]
  },
  {
   "cell_type": "markdown",
   "metadata": {},
   "source": [
    "#### Comparison operators: `==`, `!=`, `<`, `>`, `<=`, `>=`"
   ]
  },
  {
   "cell_type": "code",
   "execution_count": 42,
   "metadata": {
    "hide-output": false
   },
   "outputs": [
    {
     "data": {
      "text/plain": [
       "True"
      ]
     },
     "execution_count": 42,
     "metadata": {},
     "output_type": "execute_result"
    }
   ],
   "source": [
    "a == b + 7"
   ]
  },
  {
   "cell_type": "markdown",
   "metadata": {},
   "source": [
    "For “not equal” use `!=`"
   ]
  },
  {
   "cell_type": "code",
   "execution_count": 43,
   "metadata": {
    "hide-output": false
   },
   "outputs": [
    {
     "data": {
      "text/plain": [
       "True"
      ]
     },
     "execution_count": 43,
     "metadata": {},
     "output_type": "execute_result"
    }
   ],
   "source": [
    "1 != 2"
   ]
  },
  {
   "cell_type": "markdown",
   "metadata": {},
   "source": [
    "One of the nice features of Python is that we can *chain* inequalities"
   ]
  },
  {
   "cell_type": "code",
   "execution_count": 44,
   "metadata": {
    "hide-output": false
   },
   "outputs": [
    {
     "data": {
      "text/plain": [
       "True"
      ]
     },
     "execution_count": 44,
     "metadata": {},
     "output_type": "execute_result"
    }
   ],
   "source": [
    "# See if you can guess what this will evaluate to\n",
    "1 < 2 < 3"
   ]
  },
  {
   "cell_type": "code",
   "execution_count": 45,
   "metadata": {
    "hide-output": false
   },
   "outputs": [
    {
     "data": {
      "text/plain": [
       "False"
      ]
     },
     "execution_count": 45,
     "metadata": {},
     "output_type": "execute_result"
    }
   ],
   "source": [
    "# See if you can guess what this will evaluate to\n",
    "1 <= 2 >= 3"
   ]
  },
  {
   "cell_type": "markdown",
   "metadata": {},
   "source": [
    "### Logical Operators\n",
    "\n",
    "#### Logical operators: `and`, `or`, `not`\n",
    "\n",
    "Remember:\n",
    "\n",
    "- `P and Q` is `True` if _both_ are `True`, else `False`\n",
    "- `P or Q` is `False` if _both_ are `False`, else `True`"
   ]
  },
  {
   "cell_type": "markdown",
   "metadata": {},
   "source": [
    "For more information:\n",
    "\n",
    "- [Boolean Operations — Python documentation](https://docs.python.org/3/library/stdtypes.html#truth-value-testing)\n",
    "- [W3Schools Python Operators](https://www.w3schools.com/python/python_operators.asp)"
   ]
  },
  {
   "cell_type": "code",
   "execution_count": 46,
   "metadata": {
    "hide-output": false
   },
   "outputs": [
    {
     "data": {
      "text/plain": [
       "False"
      ]
     },
     "execution_count": 46,
     "metadata": {},
     "output_type": "execute_result"
    }
   ],
   "source": [
    "g == 'FE'"
   ]
  },
  {
   "cell_type": "code",
   "execution_count": 47,
   "metadata": {
    "hide-output": false
   },
   "outputs": [
    {
     "data": {
      "text/plain": [
       "True"
      ]
     },
     "execution_count": 47,
     "metadata": {},
     "output_type": "execute_result"
    }
   ],
   "source": [
    "(14 == 7 + 7) and (3 == 6 / 2)"
   ]
  },
  {
   "cell_type": "code",
   "execution_count": 48,
   "metadata": {
    "hide-output": false
   },
   "outputs": [
    {
     "data": {
      "text/plain": [
       "True"
      ]
     },
     "execution_count": 48,
     "metadata": {},
     "output_type": "execute_result"
    }
   ],
   "source": [
    "(5 == 2 + 3) or (g == 'FE')"
   ]
  },
  {
   "cell_type": "code",
   "execution_count": 49,
   "metadata": {
    "hide-output": false
   },
   "outputs": [
    {
     "data": {
      "text/plain": [
       "True"
      ]
     },
     "execution_count": 49,
     "metadata": {},
     "output_type": "execute_result"
    }
   ],
   "source": [
    "not (g == 'FE')"
   ]
  },
  {
   "cell_type": "markdown",
   "metadata": {},
   "source": [
    "<div class=\"alert alert-block alert-info\">\n",
    "    <h3>Independent Tasks</h3>\n",
    "\n",
    "Have a go at the tasks below. Once these are complete, you have two options:\n",
    "\n",
    "1. Redo the above questions, varying the output and trying something new - \"probably worth a google\"\n",
    "2. Begin looking at the extension questions [Extension Exercises](#Extension)\n",
    "    \n",
    "</div>"
   ]
  },
  {
   "cell_type": "code",
   "execution_count": 50,
   "metadata": {},
   "outputs": [],
   "source": [
    "# Let's recreate the variables that were created earlier above\n",
    "a = 6 + 8\n",
    "b = 14 / 2\n",
    "c = 7 % 5\n",
    "d = 14 // 4\n",
    "e = 'E'\n",
    "f = 'F'\n",
    "g = 'E' + 'F'\n",
    "h = 'F' * 3\n",
    "i = 'F' * a"
   ]
  },
  {
   "cell_type": "code",
   "execution_count": 51,
   "metadata": {},
   "outputs": [
    {
     "ename": "SyntaxError",
     "evalue": "invalid syntax (103884744.py, line 6)",
     "output_type": "error",
     "traceback": [
      "\u001b[1;36m  Input \u001b[1;32mIn [51]\u001b[1;36m\u001b[0m\n\u001b[1;33m    a == ? + ? # False\u001b[0m\n\u001b[1;37m         ^\u001b[0m\n\u001b[1;31mSyntaxError\u001b[0m\u001b[1;31m:\u001b[0m invalid syntax\n"
     ]
    }
   ],
   "source": [
    "# Task 3\n",
    "# Using the below expressions, can you replace the question marks to produce \n",
    "# the desired boolean value?\n",
    "\n",
    "# Comparison operators: ==, !=, <, >, <=, >=\n",
    "a == ? + ? # False \n",
    "? < c # False\n",
    "d <= ? # True\n",
    "? == '?' # True\n",
    "\n",
    "# Logical operators: and, or, not\n",
    "(? == ? + ?) and (? == ? / ?) # False\n",
    "(? == ? + ?) or (g == 'FE') # True\n",
    "not (? == '?') # True"
   ]
  },
  {
   "cell_type": "code",
   "execution_count": 52,
   "metadata": {},
   "outputs": [
    {
     "data": {
      "text/plain": [
       "True"
      ]
     },
     "execution_count": 52,
     "metadata": {},
     "output_type": "execute_result"
    }
   ],
   "source": [
    "# You can use this area to test your boolean expressions\n",
    "(3 == 1 + 2) and (2 == 4 / 2)"
   ]
  },
  {
   "cell_type": "markdown",
   "metadata": {},
   "source": [
    "<a id='Containers'></a>\n",
    "## 4. Containers\n",
    "[Back to Contents](#Contents)\n",
    "\n",
    "Containers can hold mutiple data types together. Basic ones are:\n",
    "\n",
    "- Lists\n",
    "- Tuples\n",
    "- Sets\n",
    "- Strings \n",
    "- Dictionaries"
   ]
  },
  {
   "cell_type": "markdown",
   "metadata": {},
   "source": [
    "In Python, an object is called **immutable** if, once created, the object cannot be changed without creating a copy.\n",
    "\n",
    "Conversely, an object is **mutable** if it can still be altered after creation."
   ]
  },
  {
   "cell_type": "markdown",
   "metadata": {},
   "source": [
    "###  Lists\n",
    "- syntax = []\n",
    "- list()\n",
    "\n",
    "Used as flat databases. Lists can be changed and updated, so are mutable.\n",
    "\n",
    "[W3School's introduction](https://www.w3schools.com/python/python_lists.asp) and the [official Python description](https://docs.python.org/3/library/stdtypes.html?highlight=numerical%20operators#lists)"
   ]
  },
  {
   "cell_type": "code",
   "execution_count": 53,
   "metadata": {},
   "outputs": [
    {
     "data": {
      "text/plain": [
       "[4, 5.8, 'a string']"
      ]
     },
     "execution_count": 53,
     "metadata": {},
     "output_type": "execute_result"
    }
   ],
   "source": [
    "list1 = [4, 5.8, 'a string']\n",
    "list1"
   ]
  },
  {
   "cell_type": "code",
   "execution_count": 54,
   "metadata": {},
   "outputs": [],
   "source": [
    "list2 = (list('hello'))"
   ]
  },
  {
   "cell_type": "code",
   "execution_count": 55,
   "metadata": {},
   "outputs": [
    {
     "data": {
      "text/plain": [
       "['h', 'e', 'l', 'l', 'o']"
      ]
     },
     "execution_count": 55,
     "metadata": {},
     "output_type": "execute_result"
    }
   ],
   "source": [
    "list2"
   ]
  },
  {
   "cell_type": "code",
   "execution_count": 56,
   "metadata": {},
   "outputs": [
    {
     "data": {
      "text/plain": [
       "[[15, 15, 16, 21],\n",
       " ['George', 'Paul', 'John', 'Ringo'],\n",
       " ['Harrison', 'McCartney', 'Lennon', 'Starr']]"
      ]
     },
     "execution_count": 56,
     "metadata": {},
     "output_type": "execute_result"
    }
   ],
   "source": [
    "[[15, 15, 16, 21],\n",
    " ['George', 'Paul', 'John', 'Ringo'],\n",
    " ['Harrison', 'McCartney', 'Lennon', 'Starr']]"
   ]
  },
  {
   "cell_type": "markdown",
   "metadata": {},
   "source": [
    "### Tuples \n",
    "- syntax = ()\n",
    "- tuple()\n",
    "\n",
    "Tuples are immutable lists. They can contain containers that can change!\n",
    "\n",
    "For more information there is [the official Python description](https://docs.python.org/3/library/stdtypes.html?highlight=numerical%20operators#tuples)"
   ]
  },
  {
   "cell_type": "code",
   "execution_count": 57,
   "metadata": {},
   "outputs": [
    {
     "name": "stdout",
     "output_type": "stream",
     "text": [
      "('let', 'it', 'be')\n"
     ]
    }
   ],
   "source": [
    "tuple1 = ('let', 'it', 'be')\n",
    "print(tuple1)"
   ]
  },
  {
   "cell_type": "code",
   "execution_count": 58,
   "metadata": {},
   "outputs": [],
   "source": [
    "listA = [2,3,4]\n",
    "listB = ['hello', 4]\n",
    "tuple2 = (listA,listB)"
   ]
  },
  {
   "cell_type": "code",
   "execution_count": 59,
   "metadata": {},
   "outputs": [
    {
     "data": {
      "text/plain": [
       "([2, 3, 4], ['hello', 4])"
      ]
     },
     "execution_count": 59,
     "metadata": {},
     "output_type": "execute_result"
    }
   ],
   "source": [
    "tuple2"
   ]
  },
  {
   "cell_type": "code",
   "execution_count": 60,
   "metadata": {},
   "outputs": [],
   "source": [
    "listA[0] = 'this is mutable'"
   ]
  },
  {
   "cell_type": "code",
   "execution_count": 61,
   "metadata": {},
   "outputs": [
    {
     "data": {
      "text/plain": [
       "(['this is mutable', 3, 4], ['hello', 4])"
      ]
     },
     "execution_count": 61,
     "metadata": {},
     "output_type": "execute_result"
    }
   ],
   "source": [
    "tuple2"
   ]
  },
  {
   "cell_type": "code",
   "execution_count": 62,
   "metadata": {},
   "outputs": [
    {
     "data": {
      "text/plain": [
       "['this is mutable', 3, 4]"
      ]
     },
     "execution_count": 62,
     "metadata": {},
     "output_type": "execute_result"
    }
   ],
   "source": [
    "tuple2[0]"
   ]
  },
  {
   "cell_type": "code",
   "execution_count": 63,
   "metadata": {},
   "outputs": [
    {
     "data": {
      "text/plain": [
       "('this is mutable', 3, 4)"
      ]
     },
     "execution_count": 63,
     "metadata": {},
     "output_type": "execute_result"
    }
   ],
   "source": [
    "tuple(listA)"
   ]
  },
  {
   "cell_type": "code",
   "execution_count": 66,
   "metadata": {},
   "outputs": [
    {
     "ename": "TypeError",
     "evalue": "'tuple' object does not support item assignment",
     "output_type": "error",
     "traceback": [
      "\u001b[1;31m---------------------------------------------------------------------------\u001b[0m",
      "\u001b[1;31mTypeError\u001b[0m                                 Traceback (most recent call last)",
      "Input \u001b[1;32mIn [66]\u001b[0m, in \u001b[0;36m<cell line: 2>\u001b[1;34m()\u001b[0m\n\u001b[0;32m      1\u001b[0m \u001b[38;5;66;03m# A tuple is immutable, we cannot change its values\u001b[39;00m\n\u001b[1;32m----> 2\u001b[0m tuple2[\u001b[38;5;241m0\u001b[39m] \u001b[38;5;241m=\u001b[39m\u001b[38;5;124m'\u001b[39m\u001b[38;5;124m4\u001b[39m\u001b[38;5;124m'\u001b[39m\n",
      "\u001b[1;31mTypeError\u001b[0m: 'tuple' object does not support item assignment"
     ]
    }
   ],
   "source": [
    "# A tuple is immutable, we cannot change its values\n",
    "tuple2[0] ='4'"
   ]
  },
  {
   "cell_type": "markdown",
   "metadata": {},
   "source": [
    "###  Sets \n",
    "- syntax = {}\n",
    "- set()\n",
    "\n",
    "Used to group together distinct immutable objects"
   ]
  },
  {
   "cell_type": "code",
   "execution_count": 67,
   "metadata": {},
   "outputs": [
    {
     "data": {
      "text/plain": [
       "{1, 3, 'spam'}"
      ]
     },
     "execution_count": 67,
     "metadata": {},
     "output_type": "execute_result"
    }
   ],
   "source": [
    "{1,1,1,1,3,3,3,3,'spam','spam','spam'}"
   ]
  },
  {
   "cell_type": "code",
   "execution_count": 68,
   "metadata": {},
   "outputs": [
    {
     "data": {
      "text/plain": [
       "{1, 3, 'spam'}"
      ]
     },
     "execution_count": 68,
     "metadata": {},
     "output_type": "execute_result"
    }
   ],
   "source": [
    "spam_list = [1,1,1,1,3,3,3,3,'spam','spam','spam']\n",
    "set(spam_list)"
   ]
  },
  {
   "cell_type": "code",
   "execution_count": 69,
   "metadata": {
    "scrolled": true
   },
   "outputs": [
    {
     "data": {
      "text/plain": [
       "{'M', 'i', 'p', 's'}"
      ]
     },
     "execution_count": 69,
     "metadata": {},
     "output_type": "execute_result"
    }
   ],
   "source": [
    "set('Mississippi')"
   ]
  },
  {
   "cell_type": "code",
   "execution_count": 70,
   "metadata": {
    "scrolled": true
   },
   "outputs": [
    {
     "ename": "TypeError",
     "evalue": "'int' object is not iterable",
     "output_type": "error",
     "traceback": [
      "\u001b[1;31m---------------------------------------------------------------------------\u001b[0m",
      "\u001b[1;31mTypeError\u001b[0m                                 Traceback (most recent call last)",
      "Input \u001b[1;32mIn [70]\u001b[0m, in \u001b[0;36m<cell line: 2>\u001b[1;34m()\u001b[0m\n\u001b[0;32m      1\u001b[0m \u001b[38;5;66;03m# will not work with numeric values\u001b[39;00m\n\u001b[1;32m----> 2\u001b[0m \u001b[38;5;28;43mset\u001b[39;49m\u001b[43m(\u001b[49m\u001b[38;5;241;43m1000456665\u001b[39;49m\u001b[43m)\u001b[49m\n",
      "\u001b[1;31mTypeError\u001b[0m: 'int' object is not iterable"
     ]
    }
   ],
   "source": [
    "# will not work with numeric values\n",
    "set(1000456665)"
   ]
  },
  {
   "cell_type": "code",
   "execution_count": 71,
   "metadata": {},
   "outputs": [
    {
     "data": {
      "text/plain": [
       "{'0', '1', '4', '5', '6'}"
      ]
     },
     "execution_count": 71,
     "metadata": {},
     "output_type": "execute_result"
    }
   ],
   "source": [
    "# convert to string\n",
    "set('1000456665')"
   ]
  },
  {
   "cell_type": "markdown",
   "metadata": {},
   "source": [
    "###  Strings\n",
    " - syntax '',\" \",\"\" \"\",\"\"\" \"\"\", can use different types and numbers of qupte when necessary\n",
    " - str() can convert an object to a string where possible\n",
    "\n",
    "Strings are immutable; combining them creates a new string\n",
    "\n",
    "[W3School's introduction](https://www.w3schools.com/python/python_strings.asp) and the [official Python description](https://docs.python.org/3/tutorial/introduction.html#strings)"
   ]
  },
  {
   "cell_type": "code",
   "execution_count": 72,
   "metadata": {
    "scrolled": true
   },
   "outputs": [
    {
     "name": "stdout",
     "output_type": "stream",
     "text": [
      "a string using single quotes\n",
      "a string using double quotes\n",
      "a string using\n",
      "             three double\n",
      "             quotes\n"
     ]
    }
   ],
   "source": [
    "string1 = 'a string using single quotes'\n",
    "string2 = \"a string using double quotes\"\n",
    "\n",
    "# triple quotes allows to write on multiple lines\n",
    "string3 = \"\"\"a string using\n",
    "             three double\n",
    "             quotes\"\"\"\n",
    "\n",
    "print(string1)\n",
    "print(string2)\n",
    "print(string3) # Question: why does this look funky?"
   ]
  },
  {
   "cell_type": "code",
   "execution_count": 75,
   "metadata": {},
   "outputs": [
    {
     "data": {
      "text/plain": [
       "{'0', '1', '4', '5', '6'}"
      ]
     },
     "execution_count": 75,
     "metadata": {},
     "output_type": "execute_result"
    }
   ],
   "source": [
    "# problems from above\n",
    "# will not work with numeric values\n",
    "#set(1000456665)\n",
    "\n",
    "# can convert to a string using str()\n",
    "set(str(1000456665))"
   ]
  },
  {
   "cell_type": "markdown",
   "metadata": {},
   "source": [
    "###  Dictionaries\n",
    " - syntax {key:value}\n",
    " - dict()\n",
    "\n",
    "Used for key-value databases\n",
    "- `keys` uniquely identify the `values`\n",
    "- `keys` are immutable\n",
    "- `values` can be anything\n",
    "\n",
    "[Official Python description](https://docs.python.org/3/library/stdtypes.html#dict)"
   ]
  },
  {
   "cell_type": "code",
   "execution_count": null,
   "metadata": {},
   "outputs": [],
   "source": [
    "data_dict = {'age': [23, 34, 25],\n",
    "             'active': [True, False, True],\n",
    "             'first_name': ['Amy', 'James', 'John'],\n",
    "             'last_name': ['Wright', 'Cook', 'Taylor']}\n",
    "data_dict"
   ]
  },
  {
   "cell_type": "code",
   "execution_count": null,
   "metadata": {},
   "outputs": [],
   "source": [
    "{('Amy', 'Wright'): {'age':23, 'active':True}, \n",
    "  ('James', 'Cook'): {'age':34, 'active':False},\n",
    "  ('John', 'Taylor'): {'age':25, 'active':True}}"
   ]
  },
  {
   "cell_type": "markdown",
   "metadata": {},
   "source": [
    "### 4 Accessing container elements using index notation\n",
    "\n",
    "For strings, lists, tuples, and dicts, we can use indexing (square brackets). This just means to access elements\n",
    "\n",
    "strings, lists, and tuples are indexed by integers, **starting at 0** for first item"
   ]
  },
  {
   "cell_type": "code",
   "execution_count": 43,
   "metadata": {},
   "outputs": [
    {
     "name": "stdout",
     "output_type": "stream",
     "text": [
      "4\n",
      "5.8\n"
     ]
    }
   ],
   "source": [
    "my_list = [4, 5.8, 'a string using single quotes']\n",
    "\n",
    "print(my_list[0])\n",
    "print(my_list[1])"
   ]
  },
  {
   "cell_type": "code",
   "execution_count": 44,
   "metadata": {},
   "outputs": [
    {
     "data": {
      "text/plain": [
       "'t'"
      ]
     },
     "execution_count": 44,
     "metadata": {},
     "output_type": "execute_result"
    }
   ],
   "source": [
    "my_str = 'String 0'\n",
    "my_str[1]"
   ]
  },
  {
   "cell_type": "code",
   "execution_count": 45,
   "metadata": {},
   "outputs": [
    {
     "data": {
      "text/plain": [
       "'String 0'"
      ]
     },
     "execution_count": 45,
     "metadata": {},
     "output_type": "execute_result"
    }
   ],
   "source": [
    "my_dict = {'a': 'String 0', 'c': ['One', 'Two']}\n",
    "my_dict['a']"
   ]
  },
  {
   "cell_type": "markdown",
   "metadata": {},
   "source": [
    "#### Indexing can be chained"
   ]
  },
  {
   "cell_type": "code",
   "execution_count": 46,
   "metadata": {},
   "outputs": [
    {
     "data": {
      "text/plain": [
       "'w'"
      ]
     },
     "execution_count": 46,
     "metadata": {},
     "output_type": "execute_result"
    }
   ],
   "source": [
    "my_dict['c'][1][1]"
   ]
  },
  {
   "cell_type": "markdown",
   "metadata": {},
   "source": [
    "#### We can use negative indices\n",
    "0 for the frist term and -1 for the last\n"
   ]
  },
  {
   "cell_type": "code",
   "execution_count": null,
   "metadata": {},
   "outputs": [],
   "source": [
    "print(my_list[-1])"
   ]
  },
  {
   "cell_type": "markdown",
   "metadata": {},
   "source": [
    "#### Slicing\n",
    "\n",
    "Strings lists and tuples also support accesing a range of items at the same time, known as **slicing**\n",
    "\n",
    "[Here's a great stack overflow answer to bookmark](https://stackoverflow.com/a/24713353/14254894)\n",
    "\n",
    "The general rule is that `a[m:n]` returns `n - m` elements, starting at `a[m]`.\n"
   ]
  },
  {
   "cell_type": "code",
   "execution_count": null,
   "metadata": {},
   "outputs": [],
   "source": [
    "# Lets get some slices!\n",
    "print(my_list[0:2])\n",
    "print(my_list[0:3]) # 0, 1, 2"
   ]
  },
  {
   "cell_type": "code",
   "execution_count": 47,
   "metadata": {},
   "outputs": [
    {
     "name": "stdout",
     "output_type": "stream",
     "text": [
      "[4, 5.8, 'a string using single quotes']\n"
     ]
    }
   ],
   "source": [
    "print(my_list[0:]) # This means \"to the end\""
   ]
  },
  {
   "cell_type": "markdown",
   "metadata": {},
   "source": [
    "you can add a third argument for step"
   ]
  },
  {
   "cell_type": "code",
   "execution_count": 49,
   "metadata": {},
   "outputs": [],
   "source": [
    "my_list_2 = [1,2,3,4,5,6,7,8,9,10]"
   ]
  },
  {
   "cell_type": "code",
   "execution_count": 50,
   "metadata": {},
   "outputs": [
    {
     "data": {
      "text/plain": [
       "[1, 3]"
      ]
     },
     "execution_count": 50,
     "metadata": {},
     "output_type": "execute_result"
    }
   ],
   "source": [
    "my_list_2[0:4:2]"
   ]
  },
  {
   "cell_type": "markdown",
   "metadata": {},
   "source": [
    "#### Strings are treated as sequences of characters!"
   ]
  },
  {
   "cell_type": "code",
   "execution_count": 51,
   "metadata": {},
   "outputs": [
    {
     "name": "stdout",
     "output_type": "stream",
     "text": [
      "Within You Without You\n"
     ]
    }
   ],
   "source": [
    "sentence1 = \"Within You Without You\"\n",
    "print(sentence1)"
   ]
  },
  {
   "cell_type": "code",
   "execution_count": 52,
   "metadata": {},
   "outputs": [
    {
     "name": "stdout",
     "output_type": "stream",
     "text": [
      " Without You\n"
     ]
    }
   ],
   "source": [
    "print(sentence1[10:22])"
   ]
  },
  {
   "cell_type": "markdown",
   "metadata": {},
   "source": [
    "#### Slices can be used in chains of brackets!"
   ]
  },
  {
   "cell_type": "code",
   "execution_count": 53,
   "metadata": {},
   "outputs": [
    {
     "name": "stdout",
     "output_type": "stream",
     "text": [
      "a string u\n"
     ]
    }
   ],
   "source": [
    "print(my_list[2][0:10])"
   ]
  },
  {
   "cell_type": "markdown",
   "metadata": {},
   "source": [
    "#### Subscript notation can be used to change elements of a list"
   ]
  },
  {
   "cell_type": "code",
   "execution_count": null,
   "metadata": {},
   "outputs": [],
   "source": [
    "my_list[0] = 'Now at the front'\n",
    "my_list"
   ]
  },
  {
   "cell_type": "markdown",
   "metadata": {},
   "source": [
    "#### But not strings or tuples"
   ]
  },
  {
   "cell_type": "code",
   "execution_count": null,
   "metadata": {},
   "outputs": [],
   "source": [
    "a = 'A string'\n",
    "a[0] = 'B'"
   ]
  },
  {
   "cell_type": "code",
   "execution_count": null,
   "metadata": {},
   "outputs": [],
   "source": [
    "# But remember, tuples are immutable\n",
    "tuple1\n",
    "tuple1[2] = 'awesome!' # :("
   ]
  },
  {
   "cell_type": "markdown",
   "metadata": {},
   "source": [
    "<div class=\"alert alert-block alert-info\">\n",
    "    <h3>Independent Tasks</h3>\n",
    "\n",
    "Have a go at the tasks below. Once these are complete, you have two options:\n",
    "\n",
    "1. Redo the above questions, varying the output and trying something new\n",
    "2. Begin looking at the extension questions [Extension Exercises](#Extension)\n",
    "</div>"
   ]
  },
  {
   "cell_type": "code",
   "execution_count": null,
   "metadata": {},
   "outputs": [],
   "source": [
    "# Task 4\n",
    "# Create a variable called 't2_list' containing exactly 5 elements\n",
    "# --------------------------------------------------- #\n",
    "\n",
    "\n",
    "\n",
    "\n",
    "# --------------------------------------------------- #"
   ]
  },
  {
   "cell_type": "code",
   "execution_count": null,
   "metadata": {},
   "outputs": [],
   "source": [
    "# Task 5\n",
    "# Assign values to 2 new variables based on whatever values you chose earlier:\n",
    "#  - create a variable called 'list_4' which contains the 4th element of 't2_list'\n",
    "#  - create a variable called 'list_sub' which contains the last three elements of 't2_list'\n",
    "# --------------------------------------------------- #\n",
    "\n",
    "\n",
    "\n",
    "\n",
    "# --------------------------------------------------- #"
   ]
  },
  {
   "cell_type": "code",
   "execution_count": null,
   "metadata": {},
   "outputs": [],
   "source": [
    "# Task 6\n",
    "# A variable called 'long_string' is created below, and is assigned a value.\n",
    "# Use the space provided to create a new variable called 'one_letter'\n",
    "#  that contains the 68th letter in the string.\n",
    "\n",
    "long_string = \"\"\"\n",
    "Lorem ipsum dolor sit amet, consectetur adipiscing elit, sed do eiusmod tempor \n",
    "incididunt ut labore et dolore magna aliqua. Ut enim ad minim veniam, quis \n",
    "nostrud exercitation ullamco laboris nisi ut aliquip ex ea commodo consequat. \"\"\"\n",
    "\n",
    "# --------------------------------------------------- #\n",
    "\n",
    "\n",
    "\n",
    "# --------------------------------------------------- #"
   ]
  },
  {
   "cell_type": "markdown",
   "metadata": {},
   "source": [
    "<a id='If'></a>\n",
    "## 5. Conditional statements\n",
    "[Back to Contents](#Contents)\n",
    "\n",
    "`if`...`else` statements are used to divide code into separate blocks which are only run if a specified condition is `True`"
   ]
  },
  {
   "cell_type": "code",
   "execution_count": null,
   "metadata": {},
   "outputs": [],
   "source": [
    "a = 5\n",
    "\n",
    "if a == 5:\n",
    "    print(\"a is equal to five\")\n",
    "else:\n",
    "    print(\"a is not equal to five\")\n",
    "    "
   ]
  },
  {
   "cell_type": "markdown",
   "metadata": {},
   "source": [
    "Note we used indentation (the tab key or 4 spaces) to diffentiate blocks of code that are executed within a condition."
   ]
  },
  {
   "cell_type": "markdown",
   "metadata": {},
   "source": [
    "If we want more than one condition to be tested, we can include ``elif`` statements:"
   ]
  },
  {
   "cell_type": "code",
   "execution_count": null,
   "metadata": {},
   "outputs": [],
   "source": [
    "cheddar_age = 10\n",
    "\n",
    "if cheddar_age >= 18:\n",
    "    age_group = 'vintage'\n",
    "elif cheddar_age > 12:\n",
    "    age_group = 'extra mature' \n",
    "elif cheddar_age > 6:\n",
    "    age_group = 'mature'  \n",
    "else:\n",
    "    age_group = 'mild'   \n",
    "\n",
    "print(f'This {cheddar_age} month old cheddar is {age_group}')"
   ]
  },
  {
   "cell_type": "markdown",
   "metadata": {
    "tags": []
   },
   "source": [
    "<div class=\"alert alert-block alert-info\">\n",
    "    <h3>Independent Tasks</h3>\n",
    "    \n",
    "Have a go at the tasks below. Once these are complete, you have two options:\n",
    "\n",
    "1. Redo tasks, varying the output and trying something new\n",
    "2. Begin looking at the extension questions [Extension Exercises](#Extension)\n",
    "\n",
    "</div>"
   ]
  },
  {
   "cell_type": "code",
   "execution_count": null,
   "metadata": {},
   "outputs": [],
   "source": [
    "# Task 7\n",
    "# In the space provided below,\n",
    "#  complete the skeleton code below to produce an algorithm\n",
    "#  which checks whether a string variable called 'input_string'\n",
    "#  starts with the letter 'a' and prints \"True\" if it does.\n",
    "\n",
    "## -------------------------------------------------------------------- ##\n",
    "\n",
    "input_string = 'Strawberry Fields Forever'\n",
    "first_character = ???\n",
    "\n",
    "if first_character ??? :\n",
    "    ???\n",
    "\n",
    "else:\n",
    "    print('false')\n",
    "\n",
    "## -------------------------------------------------------------------- ##"
   ]
  },
  {
   "cell_type": "code",
   "execution_count": null,
   "metadata": {},
   "outputs": [],
   "source": [
    "# Task 8\n",
    "# In the space provided below,\n",
    "#  complete the skeleton code below to produce an algorithm\n",
    "#  which checks whether the length of string variable\n",
    "#  called 'input_string' is more than 20 characters.\n",
    "#  If it is, print the length of the string,\n",
    "#  if it is not, print, 'the string is not long enough'.\n",
    "\n",
    "## -------------------------------------------------------------------- ##\n",
    "\n",
    "input_string = 'We Can Work It Out'\n",
    "\n",
    "A = len(input_string)\n",
    "\n",
    "if ???:\n",
    "\n",
    "    ???\n",
    "\n",
    "else :\n",
    "    ???\n",
    "\n",
    "\n",
    "\n",
    "## -------------------------------------------------------------------- ##"
   ]
  },
  {
   "cell_type": "markdown",
   "metadata": {},
   "source": [
    "<a id='Iterating'></a>\n",
    "## 6. Iterating - for loops\n",
    "[Back to Contents](#Contents)\n",
    "\n",
    "One of the most important tasks in computing is stepping through a sequence of data and performing a given action.\n",
    "\n",
    "One of Python’s strengths is its simple, flexible interface to this kind of iteration via the `for` loop."
   ]
  },
  {
   "cell_type": "markdown",
   "metadata": {},
   "source": [
    "#### Looping through a list"
   ]
  },
  {
   "cell_type": "code",
   "execution_count": null,
   "metadata": {},
   "outputs": [],
   "source": [
    "test_list = ['Each', 'Element', 'In', 'This', 'List', 'Is', 'A', 'Single', 'Word']\n",
    "\n",
    "for word in test_list:  # 'word' can be anything!\n",
    "    print(word)"
   ]
  },
  {
   "cell_type": "markdown",
   "metadata": {},
   "source": [
    "Note we used indentation (the tab key or 4 spaces) to diffentiate blocks of code that are executed within a `for` loop"
   ]
  },
  {
   "cell_type": "markdown",
   "metadata": {},
   "source": [
    "#### Looping over a number range"
   ]
  },
  {
   "cell_type": "code",
   "execution_count": null,
   "metadata": {},
   "outputs": [],
   "source": [
    "test_string = \"The loop will print each letter of this string individually\"\n",
    "\n",
    "for i in range(0, 8):\n",
    "    print(test_string[i])"
   ]
  },
  {
   "cell_type": "markdown",
   "metadata": {},
   "source": [
    "#### Nested loops"
   ]
  },
  {
   "cell_type": "code",
   "execution_count": null,
   "metadata": {},
   "outputs": [],
   "source": [
    "for i in range(2):\n",
    "    lyrics = 'We all live in a '\n",
    "    for j in range(3):\n",
    "        lyrics += 'yellow submarine'\n",
    "        if j < 2:\n",
    "            lyrics += ', '\n",
    "    print(lyrics)"
   ]
  },
  {
   "cell_type": "markdown",
   "metadata": {},
   "source": [
    "<div class=\"alert alert-block alert-info\">\n",
    "    <h3>Independent Tasks</h3>\n",
    "\n",
    "Have a go at the tasks below. Once these are complete, you have two options:\n",
    "\n",
    "1. Redo tasks, varying the output and trying something new\n",
    "2. Begin looking at the extension questions [Extension Exercises](#Extension)\n",
    "</div>"
   ]
  },
  {
   "cell_type": "code",
   "execution_count": null,
   "metadata": {},
   "outputs": [],
   "source": [
    "# Task 9\n",
    "# In the space provided below,\n",
    "#  complete the skeleton code below to produce an algorithm\n",
    "#  which prints each of the first 20 square numbers (1, 4, 9, 16, ...).\n",
    "\n",
    "## -------------------------------------------------------------------- ##\n",
    "\n",
    "for i in range(1,21):\n",
    "   \n",
    "\n",
    "## -------------------------------------------------------------------- ##"
   ]
  },
  {
   "cell_type": "code",
   "execution_count": null,
   "metadata": {},
   "outputs": [],
   "source": [
    "#  Task 10\n",
    "#  In the space provided below,\n",
    "#  complete the skeleton code below to produce an algorithm\n",
    "#  which loops through all of the elements in the list variable called 'list_1'\n",
    "#  and prints each element that begins with the letter 'p'.\n",
    "\n",
    "list_1 = ['albania','portugal','pakistan','moldova','chile','brazil','paraguay','canada',\n",
    "          'panama','indonesia','philippines','new zealand','palestine','papua new guinea']\n",
    "\n",
    "## -------------------------------------------------------------------- ##\n",
    "\n",
    "\n",
    "\n",
    "for ??? in ???: \n",
    "    if ???:\n",
    "        ???\n",
    "    \n",
    "\n",
    "## -------------------------------------------------------------------- ##"
   ]
  },
  {
   "cell_type": "markdown",
   "metadata": {},
   "source": [
    "<a id='Iterating'></a>\n",
    "## 7. Iterating - while loops\n",
    "[Back to Contents](#Contents)\n",
    "\n",
    "With the while loop we can execute a set of statements as long as a condition is true."
   ]
  },
  {
   "cell_type": "code",
   "execution_count": null,
   "metadata": {},
   "outputs": [],
   "source": [
    "a = 1\n",
    "\n",
    "while a < 10:\n",
    "    print(a)\n",
    "    a += 1"
   ]
  },
  {
   "cell_type": "markdown",
   "metadata": {},
   "source": [
    "#### What do you think will happen below?"
   ]
  },
  {
   "cell_type": "code",
   "execution_count": null,
   "metadata": {},
   "outputs": [],
   "source": [
    "# while True:\n",
    "  #  print(\"The neverending story\")"
   ]
  },
  {
   "cell_type": "markdown",
   "metadata": {},
   "source": [
    "<a id='Functions'></a>\n",
    "## 8. Functions\n",
    "[Back to Contents](#Contents)\n",
    "\n",
    "Functions are a named, packaged piece of code with a set purpose. They allow code to be reused multiple times without having to repeat yourself. \n",
    "\n",
    "The same function can be applied to many different objects.\n",
    "\n",
    "See *functional programming: Unit 1 Part 4 - Introduction to Programming Languages, page 14*\n",
    "\n",
    "#### Here are examples of basic functions in Python:"
   ]
  },
  {
   "cell_type": "code",
   "execution_count": null,
   "metadata": {},
   "outputs": [],
   "source": [
    "int('1')"
   ]
  },
  {
   "cell_type": "code",
   "execution_count": null,
   "metadata": {},
   "outputs": [],
   "source": [
    "min([3, 2, 1])"
   ]
  },
  {
   "cell_type": "raw",
   "metadata": {},
   "source": [
    "round(3.14159, 2)"
   ]
  },
  {
   "cell_type": "code",
   "execution_count": null,
   "metadata": {},
   "outputs": [],
   "source": [
    "list(range(1, 4, 1))"
   ]
  },
  {
   "cell_type": "code",
   "execution_count": null,
   "metadata": {},
   "outputs": [],
   "source": [
    "abs(-4)"
   ]
  },
  {
   "cell_type": "code",
   "execution_count": null,
   "metadata": {},
   "outputs": [],
   "source": [
    "open('./Introduction_to_Python.ipynb')"
   ]
  },
  {
   "cell_type": "code",
   "execution_count": null,
   "metadata": {},
   "outputs": [],
   "source": [
    "len('hello')"
   ]
  },
  {
   "cell_type": "markdown",
   "metadata": {},
   "source": [
    "#### Keyword Arguments\n"
   ]
  },
  {
   "cell_type": "markdown",
   "metadata": {
    "hide-output": false
   },
   "source": [
    "```python3\n",
    "print('cats', 'dogs', 'mice', sep='-', end='\\n')\n",
    "```"
   ]
  },
  {
   "cell_type": "markdown",
   "metadata": {},
   "source": [
    "In this call to the print function, notice that the last two arguments are passed in `name=argument` syntax.\n",
    "\n",
    "This is called a *keyword argument*, with `sep` and `end` being the keywords. `'-'` and `'\\n'` are the default values.\n",
    "\n",
    "Non-keyword arguments are called *positional arguments*, since their meaning\n",
    "is determined by their order:\n",
    "\n",
    "`print('cats', 'dogs', 'mice', sep='-', end='\\n')`\n",
    "\n",
    "is different from\n",
    "\n",
    "`print('dogs', 'cats', 'mice', sep='-', end='\\n')`  \n",
    "\n",
    "Keyword arguments are particularly useful when a function has a lot of arguments, in which case it’s hard to remember the right order."
   ]
  },
  {
   "cell_type": "markdown",
   "metadata": {},
   "source": [
    "###  Creating our own functions\n",
    "\n",
    "Function declarations follow the form:\n",
    "```python3\n",
    "def function_name(input_variables):\n",
    "    # function code\n",
    "    return output_object\n",
    "```\n",
    "\n",
    "Functions without a return statement automatically return the special Python object `None`. Note that a function can have any number of `return` statements."
   ]
  },
  {
   "cell_type": "code",
   "execution_count": 57,
   "metadata": {},
   "outputs": [
    {
     "data": {
      "text/plain": [
       "9"
      ]
     },
     "execution_count": 57,
     "metadata": {},
     "output_type": "execute_result"
    }
   ],
   "source": [
    "def triple(x):\n",
    "    x = x * 3\n",
    "    return x\n",
    "\n",
    "b = 3\n",
    "triple(b)"
   ]
  },
  {
   "cell_type": "code",
   "execution_count": 58,
   "metadata": {
    "hide-output": false
   },
   "outputs": [],
   "source": [
    "def linear_model(x, intercept=1, gradient=1):\n",
    "    return intercept + gradient * x"
   ]
  },
  {
   "cell_type": "markdown",
   "metadata": {},
   "source": [
    "The keyword argument values we supplied in the definition of `f` become the default values"
   ]
  },
  {
   "cell_type": "code",
   "execution_count": 59,
   "metadata": {
    "hide-output": false
   },
   "outputs": [
    {
     "data": {
      "text/plain": [
       "3"
      ]
     },
     "execution_count": 59,
     "metadata": {},
     "output_type": "execute_result"
    }
   ],
   "source": [
    "linear_model(2)"
   ]
  },
  {
   "cell_type": "markdown",
   "metadata": {},
   "source": [
    "They can be modified as follows"
   ]
  },
  {
   "cell_type": "code",
   "execution_count": 63,
   "metadata": {
    "hide-output": false
   },
   "outputs": [
    {
     "data": {
      "text/plain": [
       "14"
      ]
     },
     "execution_count": 63,
     "metadata": {},
     "output_type": "execute_result"
    }
   ],
   "source": [
    "linear_model(2, intercept=4, gradient=5)"
   ]
  },
  {
   "cell_type": "markdown",
   "metadata": {},
   "source": [
    "###  Object bound functions (methods)"
   ]
  },
  {
   "cell_type": "markdown",
   "metadata": {},
   "source": [
    "Some functions only make sense when linked to an object. These functions are called **methods**\n",
    "\n",
    "See *object-oriented programming: Unit 1 Part 4 - Introduction to Programming Languages, page 13*"
   ]
  },
  {
   "cell_type": "code",
   "execution_count": 64,
   "metadata": {},
   "outputs": [
    {
     "data": {
      "text/plain": [
       "['Within', 'You', 'Without', 'You']"
      ]
     },
     "execution_count": 64,
     "metadata": {},
     "output_type": "execute_result"
    }
   ],
   "source": [
    "phrase = 'Within You Without You'\n",
    "phrase.split(' ')"
   ]
  },
  {
   "cell_type": "markdown",
   "metadata": {},
   "source": [
    "Methods are used to:\n",
    "- manipulate an object \n",
    "- find information\n",
    "- create a new object"
   ]
  },
  {
   "cell_type": "code",
   "execution_count": 65,
   "metadata": {},
   "outputs": [
    {
     "name": "stdout",
     "output_type": "stream",
     "text": [
      "within you without you\n",
      "False\n",
      "['Within', ' Without', '']\n"
     ]
    }
   ],
   "source": [
    "print(phrase.lower()) \n",
    "print(phrase.islower())\n",
    "print(phrase.split(' You'))"
   ]
  },
  {
   "cell_type": "code",
   "execution_count": 66,
   "metadata": {
    "scrolled": true
   },
   "outputs": [
    {
     "data": {
      "text/plain": [
       "['__add__',\n",
       " '__class__',\n",
       " '__contains__',\n",
       " '__delattr__',\n",
       " '__dir__',\n",
       " '__doc__',\n",
       " '__eq__',\n",
       " '__format__',\n",
       " '__ge__',\n",
       " '__getattribute__',\n",
       " '__getitem__',\n",
       " '__getnewargs__',\n",
       " '__gt__',\n",
       " '__hash__',\n",
       " '__init__',\n",
       " '__init_subclass__',\n",
       " '__iter__',\n",
       " '__le__',\n",
       " '__len__',\n",
       " '__lt__',\n",
       " '__mod__',\n",
       " '__mul__',\n",
       " '__ne__',\n",
       " '__new__',\n",
       " '__reduce__',\n",
       " '__reduce_ex__',\n",
       " '__repr__',\n",
       " '__rmod__',\n",
       " '__rmul__',\n",
       " '__setattr__',\n",
       " '__sizeof__',\n",
       " '__str__',\n",
       " '__subclasshook__',\n",
       " 'capitalize',\n",
       " 'casefold',\n",
       " 'center',\n",
       " 'count',\n",
       " 'encode',\n",
       " 'endswith',\n",
       " 'expandtabs',\n",
       " 'find',\n",
       " 'format',\n",
       " 'format_map',\n",
       " 'index',\n",
       " 'isalnum',\n",
       " 'isalpha',\n",
       " 'isascii',\n",
       " 'isdecimal',\n",
       " 'isdigit',\n",
       " 'isidentifier',\n",
       " 'islower',\n",
       " 'isnumeric',\n",
       " 'isprintable',\n",
       " 'isspace',\n",
       " 'istitle',\n",
       " 'isupper',\n",
       " 'join',\n",
       " 'ljust',\n",
       " 'lower',\n",
       " 'lstrip',\n",
       " 'maketrans',\n",
       " 'partition',\n",
       " 'removeprefix',\n",
       " 'removesuffix',\n",
       " 'replace',\n",
       " 'rfind',\n",
       " 'rindex',\n",
       " 'rjust',\n",
       " 'rpartition',\n",
       " 'rsplit',\n",
       " 'rstrip',\n",
       " 'split',\n",
       " 'splitlines',\n",
       " 'startswith',\n",
       " 'strip',\n",
       " 'swapcase',\n",
       " 'title',\n",
       " 'translate',\n",
       " 'upper',\n",
       " 'zfill']"
      ]
     },
     "execution_count": 66,
     "metadata": {},
     "output_type": "execute_result"
    }
   ],
   "source": [
    "dir(phrase)"
   ]
  },
  {
   "cell_type": "markdown",
   "metadata": {},
   "source": [
    "### Docstrings\n",
    "\n",
    "\n",
    "<a id='index-12'></a>\n",
    "Python has a system for adding comments to functions, modules, etc. called *docstrings*.\n",
    "\n",
    "The nice thing about docstrings is that they are available at run-time.\n",
    "\n",
    "Try running this"
   ]
  },
  {
   "cell_type": "code",
   "execution_count": 67,
   "metadata": {
    "hide-output": false
   },
   "outputs": [],
   "source": [
    "def my_function(x):\n",
    "    \"\"\"\n",
    "    This function squares its argument\n",
    "    \"\"\"\n",
    "    return x**2"
   ]
  },
  {
   "cell_type": "markdown",
   "metadata": {},
   "source": [
    "After running this code, the docstring is available"
   ]
  },
  {
   "cell_type": "code",
   "execution_count": 68,
   "metadata": {
    "hide-output": false
   },
   "outputs": [],
   "source": [
    "my_function?"
   ]
  },
  {
   "cell_type": "markdown",
   "metadata": {
    "hide-output": false
   },
   "source": [
    "```ipython\n",
    "Type:       function\n",
    "String Form:<function f at 0x2223320>\n",
    "File:       /home/john/temp/temp.py\n",
    "Definition: f(x)\n",
    "Docstring:  This function squares its argument\n",
    "```\n"
   ]
  },
  {
   "cell_type": "code",
   "execution_count": 69,
   "metadata": {
    "hide-output": false
   },
   "outputs": [],
   "source": [
    "my_function??"
   ]
  },
  {
   "cell_type": "markdown",
   "metadata": {
    "hide-output": false
   },
   "source": [
    "```ipython\n",
    "Type:       function\n",
    "String Form:<function f at 0x2223320>\n",
    "File:       /home/john/temp/temp.py\n",
    "Definition: f(x)\n",
    "Source:\n",
    "def f(x):\n",
    "    \"\"\"\n",
    "    This function squares its argument\n",
    "    \"\"\"\n",
    "    return x**2\n",
    "```\n"
   ]
  },
  {
   "cell_type": "markdown",
   "metadata": {},
   "source": [
    "With one question mark we bring up the docstring, and with two we get the source code as well."
   ]
  },
  {
   "cell_type": "markdown",
   "metadata": {},
   "source": [
    "#### Independent Tasks"
   ]
  },
  {
   "cell_type": "code",
   "execution_count": 70,
   "metadata": {},
   "outputs": [
    {
     "name": "stdout",
     "output_type": "stream",
     "text": [
      "6\n"
     ]
    }
   ],
   "source": [
    "# Task 11\n",
    "# Take the shape area function created below and try to create a new function for the volume\n",
    "\n",
    "\n",
    "def RectangularArea(height = 2, width = 2):\n",
    "    a = height * width\n",
    "    return(a)\n",
    "\n",
    "a = 2\n",
    "b = 3\n",
    "answer = RectangularArea(a, b)\n",
    "print(answer)"
   ]
  },
  {
   "cell_type": "markdown",
   "metadata": {},
   "source": [
    "Once these are complete, you have two options:\n",
    "\n",
    "1. Redo tasks, varying the output and trying something new\n",
    "2. Begin looking at the extension questions [Extension Exercises](#Extension)\n",
    "<hr>"
   ]
  },
  {
   "cell_type": "markdown",
   "metadata": {},
   "source": [
    "<a id='Extension'></a>\n",
    "## 9. Extension Exercises\n",
    "[Back to Contents](#Contents)\n",
    "\n",
    "**These are optional extension exercises for those programmers already fammiliar with python, or a similar language**\n",
    "\n",
    "Note: The solutions are below. The purpose is not to get the \"correct\" answer, and you won't submit any answers to me, but simply to stretch your grey matter.\n",
    "\n",
    "(For some, the built-in function `sum()` comes in handy)."
   ]
  },
  {
   "cell_type": "markdown",
   "metadata": {},
   "source": [
    "### Exercise 1\n",
    "\n",
    "Part 1: Given two numeric lists or tuples `x_vals` and `y_vals` of equal length, compute\n",
    "their inner product using `zip()`.\n",
    "\n",
    "Part 2: In one line, count the number of even numbers in 0,…,99.\n",
    "\n",
    "- Hint: `x % 2` returns 0 if `x` is even, 1 otherwise.  \n",
    "\n",
    "\n",
    "Part 3: Given `pairs = ((2, 5), (4, 2), (9, 8), (12, 10))`, count the number of pairs `(a, b)`\n",
    "such that both `a` and `b` are even.\n",
    "\n",
    "\n",
    "<a id='pyess-ex2'></a>"
   ]
  },
  {
   "cell_type": "markdown",
   "metadata": {},
   "source": [
    "### Exercise 2\n",
    "\n",
    "Write a function that takes a string as an argument and returns the number of capital letters in the string.\n",
    "\n",
    "Hint: `'foo'.upper()` returns `'FOO'`.\n",
    "\n",
    "\n",
    "<a id='pyess-ex4'></a>"
   ]
  },
  {
   "cell_type": "markdown",
   "metadata": {},
   "source": [
    "### Exercise 3\n",
    "\n",
    "Write a function that takes two sequences `seq_a` and `seq_b` as arguments and\n",
    "returns `True` if every element in `seq_a` is also an element of `seq_b`, else\n",
    "`False`.\n",
    "\n",
    "- By “sequence” we mean a list, a tuple or a string.  \n",
    "- Do the exercise without using [sets](https://docs.python.org/3/tutorial/datastructures.html#sets) and set methods.  \n",
    "\n",
    "\n",
    "\n",
    "<a id='pyess-ex5'></a>"
   ]
  },
  {
   "cell_type": "markdown",
   "metadata": {},
   "source": [
    "### Exercise 4\n",
    "\n",
    "Using [list comprehension syntax](https://docs.python.org/3/tutorial/datastructures.html#list-comprehensions), we can simplify the loop in the following code."
   ]
  },
  {
   "cell_type": "code",
   "execution_count": 71,
   "metadata": {
    "hide-output": false
   },
   "outputs": [],
   "source": [
    "import numpy as np\n",
    "\n",
    "n = 100\n",
    "ϵ_values = []\n",
    "for i in range(n):\n",
    "    e = np.random.randn()\n",
    "    ϵ_values.append(e)"
   ]
  },
  {
   "cell_type": "markdown",
   "metadata": {},
   "source": [
    "### Exercise 5\n",
    "\n",
    "Using the dictionary `christmas_sequence` print out each verse of the [The Twelve Days of Christmas](https://en.wikipedia.org/wiki/The_Twelve_Days_of_Christmas_(song)).\n",
    "\n",
    "For example, the third verse will be:\n",
    "_On the third day of Christmas my true love sent to me three french hens, two turtle doves and a partridge in a pear tree._\n",
    "\n",
    "Hint: You will probably need nested loops."
   ]
  },
  {
   "cell_type": "code",
   "execution_count": null,
   "metadata": {},
   "outputs": [],
   "source": [
    "christmas_sequence = {\"first\": \"a partridge in a pear tree\",\n",
    "                      \"second\": \"two turtle doves\",\n",
    "                      \"third\": \"three french hens\",\n",
    "                      \"fourth\": \"four calling birds\",\n",
    "                      \"fith\": \"five gold rings\",\n",
    "                      \"sixth\": \"six geese a-laying\",\n",
    "                      \"seventh\": \"seven swans a-swimming\",\n",
    "                      \"eigth\": \"eight maids a-milking\",\n",
    "                      \"nineth\": \"nine ladies dancing\",\n",
    "                      \"thenth\": \"ten lords a-leaping\",\n",
    "                      \"eleventh\": \"eleven pipers piping\",\n",
    "                      \"twelth\": \"twelve drummers drumming\"}\n",
    "\n"
   ]
  },
  {
   "cell_type": "markdown",
   "metadata": {},
   "source": [
    "### Exercise 6\n",
    "\n",
    "The function ``dir`` allows you to look at the methods and attributes associated with a python object. Pick one or more of the objects we have looked at:\n",
    "\n",
    "- There are two main types of methods and attributes returned. What are they? What is the value in this approach?"
   ]
  },
  {
   "cell_type": "code",
   "execution_count": null,
   "metadata": {
    "scrolled": true
   },
   "outputs": [],
   "source": [
    "dir(1)"
   ]
  },
  {
   "cell_type": "markdown",
   "metadata": {},
   "source": [
    "### Exercise 7"
   ]
  },
  {
   "cell_type": "markdown",
   "metadata": {},
   "source": [
    "As you might have realised, variables are accesible between code cells. They are in the same _namespace_. We can look at what is in that namespace using the ``globals`` and ``locals`` functions.\n",
    "\n",
    "- What are the datatypes of the ``globals`` and ``locals`` function outputs?\n",
    "- There are lots of variables listed besides the ones you have created. Many of these are specific to this interface. Can you identify their purpose?"
   ]
  },
  {
   "cell_type": "code",
   "execution_count": null,
   "metadata": {},
   "outputs": [],
   "source": [
    "globals()"
   ]
  },
  {
   "cell_type": "markdown",
   "metadata": {},
   "source": [
    "<a id='Solutions'></a>\n",
    "## 10. Solutions\n",
    "[Back to Contents](#Contents)"
   ]
  },
  {
   "cell_type": "markdown",
   "metadata": {},
   "source": [
    "### Exercise 1"
   ]
  },
  {
   "cell_type": "markdown",
   "metadata": {},
   "source": [
    "#### Part 1 Solution:\n",
    "\n",
    "Here’s one possible solution:"
   ]
  },
  {
   "cell_type": "code",
   "execution_count": null,
   "metadata": {
    "hide-output": false
   },
   "outputs": [],
   "source": [
    "x_vals = [1, 2, 3]\n",
    "y_vals = [1, 1, 1]\n",
    "sum([x * y for x, y in zip(x_vals, y_vals)])"
   ]
  },
  {
   "cell_type": "markdown",
   "metadata": {},
   "source": [
    "This also works"
   ]
  },
  {
   "cell_type": "code",
   "execution_count": null,
   "metadata": {
    "hide-output": false
   },
   "outputs": [],
   "source": [
    "sum(x * y for x, y in zip(x_vals, y_vals))"
   ]
  },
  {
   "cell_type": "markdown",
   "metadata": {},
   "source": [
    "#### Part 2 Solution:\n",
    "\n",
    "One solution is:"
   ]
  },
  {
   "cell_type": "code",
   "execution_count": null,
   "metadata": {
    "hide-output": false
   },
   "outputs": [],
   "source": [
    "sum([x % 2 == 0 for x in range(100)])"
   ]
  },
  {
   "cell_type": "markdown",
   "metadata": {},
   "source": [
    "This also works:"
   ]
  },
  {
   "cell_type": "code",
   "execution_count": null,
   "metadata": {
    "hide-output": false
   },
   "outputs": [],
   "source": [
    "sum(x % 2 == 0 for x in range(100))"
   ]
  },
  {
   "cell_type": "markdown",
   "metadata": {},
   "source": [
    "Some less natural alternatives that nonetheless help to illustrate the\n",
    "flexibility of list comprehensions are"
   ]
  },
  {
   "cell_type": "code",
   "execution_count": null,
   "metadata": {
    "hide-output": false
   },
   "outputs": [],
   "source": [
    "len([x for x in range(100) if x % 2 == 0])"
   ]
  },
  {
   "cell_type": "markdown",
   "metadata": {},
   "source": [
    "and"
   ]
  },
  {
   "cell_type": "code",
   "execution_count": null,
   "metadata": {
    "hide-output": false
   },
   "outputs": [],
   "source": [
    "sum([1 for x in range(100) if x % 2 == 0])"
   ]
  },
  {
   "cell_type": "markdown",
   "metadata": {},
   "source": [
    "#### Part 3 Solution\n",
    "\n",
    "Here’s one possibility:"
   ]
  },
  {
   "cell_type": "code",
   "execution_count": null,
   "metadata": {
    "hide-output": false
   },
   "outputs": [],
   "source": [
    "pairs = ((2, 5), (4, 2), (9, 8), (12, 10))\n",
    "sum(x % 2 == 0 and y % 2 == 0 for x, y in pairs)"
   ]
  },
  {
   "cell_type": "markdown",
   "metadata": {},
   "source": [
    "### Exercise 2\n",
    "\n",
    "Here's one solution:"
   ]
  },
  {
   "cell_type": "code",
   "execution_count": null,
   "metadata": {
    "hide-output": false
   },
   "outputs": [],
   "source": [
    "def f(string):\n",
    "    count = 0\n",
    "    for letter in string:\n",
    "        if letter == letter.upper() and letter.isalpha():\n",
    "            count += 1\n",
    "    return count\n",
    "\n",
    "f('The Rain in Spain')"
   ]
  },
  {
   "cell_type": "markdown",
   "metadata": {},
   "source": [
    "An alternative, more _pythonic_ solution:"
   ]
  },
  {
   "cell_type": "code",
   "execution_count": null,
   "metadata": {
    "hide-output": false
   },
   "outputs": [],
   "source": [
    "def count_uppercase_chars(s):\n",
    "    return sum([c.isupper() for c in s])\n",
    "\n",
    "count_uppercase_chars('The Rain in Spain')"
   ]
  },
  {
   "cell_type": "markdown",
   "metadata": {},
   "source": [
    "### Exercise 3\n",
    "\n",
    "Here’s a solution:"
   ]
  },
  {
   "cell_type": "code",
   "execution_count": null,
   "metadata": {
    "hide-output": false
   },
   "outputs": [],
   "source": [
    "def f(seq_a, seq_b):\n",
    "    is_subset = True\n",
    "    for a in seq_a:\n",
    "        if a not in seq_b:\n",
    "            is_subset = False\n",
    "    return is_subset\n",
    "\n",
    "# == test == #\n",
    "\n",
    "print(f([1, 2], [1, 2, 3]))\n",
    "print(f([1, 2, 3], [1, 2]))"
   ]
  },
  {
   "cell_type": "markdown",
   "metadata": {},
   "source": [
    "Of course, if we use the `sets` data type then the solution is easier:"
   ]
  },
  {
   "cell_type": "code",
   "execution_count": null,
   "metadata": {
    "hide-output": false
   },
   "outputs": [],
   "source": [
    "def f(seq_a, seq_b):\n",
    "    return set(seq_a).issubset(set(seq_b))"
   ]
  },
  {
   "cell_type": "markdown",
   "metadata": {},
   "source": [
    "### Exercise 4\n",
    "\n",
    "Here's one solution:"
   ]
  },
  {
   "cell_type": "code",
   "execution_count": null,
   "metadata": {
    "hide-output": false
   },
   "outputs": [],
   "source": [
    "n = 100\n",
    "ϵ_values = [np.random.randn() for i in range(n)]"
   ]
  },
  {
   "cell_type": "markdown",
   "metadata": {},
   "source": [
    "### Exercise 5\n",
    "\n",
    "Here is one solution:"
   ]
  },
  {
   "cell_type": "code",
   "execution_count": null,
   "metadata": {},
   "outputs": [],
   "source": [
    "christmas_sequence = {\"first\": \"a partridge in a pear tree\",\n",
    "                      \"second\": \"two turtle doves\",\n",
    "                      \"third\": \"three french hens\",\n",
    "                      \"fourth\": \"four calling birds\",\n",
    "                      \"fith\": \"five gold rings\",\n",
    "                      \"sixth\": \"six geese a-laying\",\n",
    "                      \"seventh\": \"seven swans a-swimming\",\n",
    "                      \"eigth\": \"eight maids a-milking\",\n",
    "                      \"nineth\": \"nine ladies dancing\",\n",
    "                      \"thenth\": \"ten lords a-leaping\",\n",
    "                      \"eleventh\": \"eleven pipers piping\",\n",
    "                      \"twelth\": \"twelve drummers drumming\"}\n",
    "\n",
    "gifts = ''\n",
    "for day, gift in christmas_sequence.items():\n",
    "    if day == 'first':\n",
    "        gifts = f'{gift}.'\n",
    "    elif day == 'second':\n",
    "        gifts = f'{gift} and {gifts}'\n",
    "    else:\n",
    "        gifts = f'{gift}, {gifts}'\n",
    "    print(f\"On the {day} day of Christmas my true love sent to me {gifts}\")"
   ]
  },
  {
   "cell_type": "markdown",
   "metadata": {},
   "source": [
    "### Exercise 6\n",
    "\n",
    "In Python all information about objects is visible, so a naming convention is used to denote what should be considered private or dangerous to use directly.\n",
    "\n",
    "One underscore before name indicates that the name is used as an internal name. Two underscores are used to denote a special private method or attribute. \n",
    "\n",
    "For example, adding is done with the ``__add__`` method"
   ]
  },
  {
   "cell_type": "code",
   "execution_count": null,
   "metadata": {},
   "outputs": [],
   "source": [
    "first = 5\n",
    "second = 3\n",
    "print(first + second)\n",
    "print(first.__add__(second))"
   ]
  },
  {
   "cell_type": "markdown",
   "metadata": {},
   "source": [
    "### Exercise 7\n",
    "\n",
    "Both ``globals`` and ``locals`` return dictionaries. `locals` will return a different dictionary to `globals` when inside a function.\n",
    "\n",
    "In a jupyter notebook ``globals`` will contain some of the special helper functions that load upon creation of the notebook. For more information on these, have a look at the [iPython documentation](https://ipython.readthedocs.io/en/stable/interactive/tutorial.html), specifically the commands that [recall the history of the commands you have run](https://ipython.readthedocs.io/en/stable/interactive/tutorial.html#history)"
   ]
  },
  {
   "cell_type": "code",
   "execution_count": null,
   "metadata": {},
   "outputs": [],
   "source": [
    "globals()"
   ]
  }
 ],
 "metadata": {
  "date": 1601773653.328314,
  "filename": "python_essentials.rst",
  "kernelspec": {
   "display_name": "Python 3 (ipykernel)",
   "language": "python",
   "name": "python3"
  },
  "language_info": {
   "codemirror_mode": {
    "name": "ipython",
    "version": 3
   },
   "file_extension": ".py",
   "mimetype": "text/x-python",
   "name": "python",
   "nbconvert_exporter": "python",
   "pygments_lexer": "ipython3",
   "version": "3.9.7"
  },
  "next_doc": {
   "link": "oop_intro",
   "title": "OOP I: Introduction to Object Oriented Programming"
  },
  "prev_doc": {
   "link": "functions",
   "title": "Functions"
  },
  "title": "Python Essentials"
 },
 "nbformat": 4,
 "nbformat_minor": 4
}
